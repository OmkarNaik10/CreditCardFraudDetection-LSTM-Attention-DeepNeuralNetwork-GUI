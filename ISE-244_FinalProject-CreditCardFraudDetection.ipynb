{
 "cells": [
  {
   "cell_type": "markdown",
   "id": "eb93018f",
   "metadata": {},
   "source": [
    "# 1 Import Libraries"
   ]
  },
  {
   "cell_type": "code",
   "execution_count": 2,
   "id": "863f989a",
   "metadata": {},
   "outputs": [],
   "source": [
    "import numpy as np\n",
    "import pandas as pd\n",
    "import seaborn as sns\n",
    "import plotly.express as px\n",
    "from matplotlib import pyplot as plt\n",
    "from sklearn.model_selection import cross_val_score\n",
    "\n",
    "from sklearn import metrics\n",
    "from collections import Counter"
   ]
  },
  {
   "cell_type": "code",
   "execution_count": 3,
   "id": "ce221f7b",
   "metadata": {},
   "outputs": [],
   "source": [
    "import warnings\n",
    "warnings.filterwarnings('ignore')"
   ]
  },
  {
   "cell_type": "markdown",
   "id": "65209272",
   "metadata": {},
   "source": [
    "# Display Data and load CreditCard Data"
   ]
  },
  {
   "cell_type": "code",
   "execution_count": 4,
   "id": "a798430f",
   "metadata": {},
   "outputs": [],
   "source": [
    "data = pd.read_csv('creditcard.csv')"
   ]
  },
  {
   "cell_type": "code",
   "execution_count": 35,
   "id": "3b8b772a",
   "metadata": {},
   "outputs": [
    {
     "data": {
      "text/html": [
       "<div>\n",
       "<style scoped>\n",
       "    .dataframe tbody tr th:only-of-type {\n",
       "        vertical-align: middle;\n",
       "    }\n",
       "\n",
       "    .dataframe tbody tr th {\n",
       "        vertical-align: top;\n",
       "    }\n",
       "\n",
       "    .dataframe thead th {\n",
       "        text-align: right;\n",
       "    }\n",
       "</style>\n",
       "<table border=\"1\" class=\"dataframe\">\n",
       "  <thead>\n",
       "    <tr style=\"text-align: right;\">\n",
       "      <th></th>\n",
       "      <th>Time</th>\n",
       "      <th>V1</th>\n",
       "      <th>V2</th>\n",
       "      <th>V3</th>\n",
       "      <th>V4</th>\n",
       "      <th>V5</th>\n",
       "      <th>V6</th>\n",
       "      <th>V7</th>\n",
       "      <th>V8</th>\n",
       "      <th>V9</th>\n",
       "      <th>...</th>\n",
       "      <th>V21</th>\n",
       "      <th>V22</th>\n",
       "      <th>V23</th>\n",
       "      <th>V24</th>\n",
       "      <th>V25</th>\n",
       "      <th>V26</th>\n",
       "      <th>V27</th>\n",
       "      <th>V28</th>\n",
       "      <th>Amount</th>\n",
       "      <th>Class</th>\n",
       "    </tr>\n",
       "  </thead>\n",
       "  <tbody>\n",
       "    <tr>\n",
       "      <th>0</th>\n",
       "      <td>0.0</td>\n",
       "      <td>-1.359807</td>\n",
       "      <td>-0.072781</td>\n",
       "      <td>2.536347</td>\n",
       "      <td>1.378155</td>\n",
       "      <td>-0.338321</td>\n",
       "      <td>0.462388</td>\n",
       "      <td>0.239599</td>\n",
       "      <td>0.098698</td>\n",
       "      <td>0.363787</td>\n",
       "      <td>...</td>\n",
       "      <td>-0.018307</td>\n",
       "      <td>0.277838</td>\n",
       "      <td>-0.110474</td>\n",
       "      <td>0.066928</td>\n",
       "      <td>0.128539</td>\n",
       "      <td>-0.189115</td>\n",
       "      <td>0.133558</td>\n",
       "      <td>-0.021053</td>\n",
       "      <td>149.62</td>\n",
       "      <td>0</td>\n",
       "    </tr>\n",
       "    <tr>\n",
       "      <th>1</th>\n",
       "      <td>0.0</td>\n",
       "      <td>1.191857</td>\n",
       "      <td>0.266151</td>\n",
       "      <td>0.166480</td>\n",
       "      <td>0.448154</td>\n",
       "      <td>0.060018</td>\n",
       "      <td>-0.082361</td>\n",
       "      <td>-0.078803</td>\n",
       "      <td>0.085102</td>\n",
       "      <td>-0.255425</td>\n",
       "      <td>...</td>\n",
       "      <td>-0.225775</td>\n",
       "      <td>-0.638672</td>\n",
       "      <td>0.101288</td>\n",
       "      <td>-0.339846</td>\n",
       "      <td>0.167170</td>\n",
       "      <td>0.125895</td>\n",
       "      <td>-0.008983</td>\n",
       "      <td>0.014724</td>\n",
       "      <td>2.69</td>\n",
       "      <td>0</td>\n",
       "    </tr>\n",
       "    <tr>\n",
       "      <th>2</th>\n",
       "      <td>1.0</td>\n",
       "      <td>-1.358354</td>\n",
       "      <td>-1.340163</td>\n",
       "      <td>1.773209</td>\n",
       "      <td>0.379780</td>\n",
       "      <td>-0.503198</td>\n",
       "      <td>1.800499</td>\n",
       "      <td>0.791461</td>\n",
       "      <td>0.247676</td>\n",
       "      <td>-1.514654</td>\n",
       "      <td>...</td>\n",
       "      <td>0.247998</td>\n",
       "      <td>0.771679</td>\n",
       "      <td>0.909412</td>\n",
       "      <td>-0.689281</td>\n",
       "      <td>-0.327642</td>\n",
       "      <td>-0.139097</td>\n",
       "      <td>-0.055353</td>\n",
       "      <td>-0.059752</td>\n",
       "      <td>378.66</td>\n",
       "      <td>0</td>\n",
       "    </tr>\n",
       "    <tr>\n",
       "      <th>3</th>\n",
       "      <td>1.0</td>\n",
       "      <td>-0.966272</td>\n",
       "      <td>-0.185226</td>\n",
       "      <td>1.792993</td>\n",
       "      <td>-0.863291</td>\n",
       "      <td>-0.010309</td>\n",
       "      <td>1.247203</td>\n",
       "      <td>0.237609</td>\n",
       "      <td>0.377436</td>\n",
       "      <td>-1.387024</td>\n",
       "      <td>...</td>\n",
       "      <td>-0.108300</td>\n",
       "      <td>0.005274</td>\n",
       "      <td>-0.190321</td>\n",
       "      <td>-1.175575</td>\n",
       "      <td>0.647376</td>\n",
       "      <td>-0.221929</td>\n",
       "      <td>0.062723</td>\n",
       "      <td>0.061458</td>\n",
       "      <td>123.50</td>\n",
       "      <td>0</td>\n",
       "    </tr>\n",
       "    <tr>\n",
       "      <th>4</th>\n",
       "      <td>2.0</td>\n",
       "      <td>-1.158233</td>\n",
       "      <td>0.877737</td>\n",
       "      <td>1.548718</td>\n",
       "      <td>0.403034</td>\n",
       "      <td>-0.407193</td>\n",
       "      <td>0.095921</td>\n",
       "      <td>0.592941</td>\n",
       "      <td>-0.270533</td>\n",
       "      <td>0.817739</td>\n",
       "      <td>...</td>\n",
       "      <td>-0.009431</td>\n",
       "      <td>0.798278</td>\n",
       "      <td>-0.137458</td>\n",
       "      <td>0.141267</td>\n",
       "      <td>-0.206010</td>\n",
       "      <td>0.502292</td>\n",
       "      <td>0.219422</td>\n",
       "      <td>0.215153</td>\n",
       "      <td>69.99</td>\n",
       "      <td>0</td>\n",
       "    </tr>\n",
       "  </tbody>\n",
       "</table>\n",
       "<p>5 rows × 31 columns</p>\n",
       "</div>"
      ],
      "text/plain": [
       "   Time        V1        V2        V3        V4        V5        V6        V7  \\\n",
       "0   0.0 -1.359807 -0.072781  2.536347  1.378155 -0.338321  0.462388  0.239599   \n",
       "1   0.0  1.191857  0.266151  0.166480  0.448154  0.060018 -0.082361 -0.078803   \n",
       "2   1.0 -1.358354 -1.340163  1.773209  0.379780 -0.503198  1.800499  0.791461   \n",
       "3   1.0 -0.966272 -0.185226  1.792993 -0.863291 -0.010309  1.247203  0.237609   \n",
       "4   2.0 -1.158233  0.877737  1.548718  0.403034 -0.407193  0.095921  0.592941   \n",
       "\n",
       "         V8        V9  ...       V21       V22       V23       V24       V25  \\\n",
       "0  0.098698  0.363787  ... -0.018307  0.277838 -0.110474  0.066928  0.128539   \n",
       "1  0.085102 -0.255425  ... -0.225775 -0.638672  0.101288 -0.339846  0.167170   \n",
       "2  0.247676 -1.514654  ...  0.247998  0.771679  0.909412 -0.689281 -0.327642   \n",
       "3  0.377436 -1.387024  ... -0.108300  0.005274 -0.190321 -1.175575  0.647376   \n",
       "4 -0.270533  0.817739  ... -0.009431  0.798278 -0.137458  0.141267 -0.206010   \n",
       "\n",
       "        V26       V27       V28  Amount  Class  \n",
       "0 -0.189115  0.133558 -0.021053  149.62      0  \n",
       "1  0.125895 -0.008983  0.014724    2.69      0  \n",
       "2 -0.139097 -0.055353 -0.059752  378.66      0  \n",
       "3 -0.221929  0.062723  0.061458  123.50      0  \n",
       "4  0.502292  0.219422  0.215153   69.99      0  \n",
       "\n",
       "[5 rows x 31 columns]"
      ]
     },
     "execution_count": 35,
     "metadata": {},
     "output_type": "execute_result"
    }
   ],
   "source": [
    "data.head()"
   ]
  },
  {
   "cell_type": "code",
   "execution_count": 5,
   "id": "cce4cb41",
   "metadata": {},
   "outputs": [
    {
     "data": {
      "text/plain": [
       "(284807, 31)"
      ]
     },
     "execution_count": 5,
     "metadata": {},
     "output_type": "execute_result"
    }
   ],
   "source": [
    "data.shape"
   ]
  },
  {
   "cell_type": "code",
   "execution_count": 6,
   "id": "65baf4ef",
   "metadata": {},
   "outputs": [
    {
     "name": "stdout",
     "output_type": "stream",
     "text": [
      "Number of Rows 284807\n",
      "Number of Columns 31\n"
     ]
    }
   ],
   "source": [
    "print(\"Number of Rows\",data.shape[0])\n",
    "print(\"Number of Columns\",data.shape[1])"
   ]
  },
  {
   "cell_type": "code",
   "execution_count": 7,
   "id": "b1a73614",
   "metadata": {},
   "outputs": [
    {
     "name": "stdout",
     "output_type": "stream",
     "text": [
      "<class 'pandas.core.frame.DataFrame'>\n",
      "RangeIndex: 284807 entries, 0 to 284806\n",
      "Data columns (total 31 columns):\n",
      " #   Column  Non-Null Count   Dtype  \n",
      "---  ------  --------------   -----  \n",
      " 0   Time    284807 non-null  float64\n",
      " 1   V1      284807 non-null  float64\n",
      " 2   V2      284807 non-null  float64\n",
      " 3   V3      284807 non-null  float64\n",
      " 4   V4      284807 non-null  float64\n",
      " 5   V5      284807 non-null  float64\n",
      " 6   V6      284807 non-null  float64\n",
      " 7   V7      284807 non-null  float64\n",
      " 8   V8      284807 non-null  float64\n",
      " 9   V9      284807 non-null  float64\n",
      " 10  V10     284807 non-null  float64\n",
      " 11  V11     284807 non-null  float64\n",
      " 12  V12     284807 non-null  float64\n",
      " 13  V13     284807 non-null  float64\n",
      " 14  V14     284807 non-null  float64\n",
      " 15  V15     284807 non-null  float64\n",
      " 16  V16     284807 non-null  float64\n",
      " 17  V17     284807 non-null  float64\n",
      " 18  V18     284807 non-null  float64\n",
      " 19  V19     284807 non-null  float64\n",
      " 20  V20     284807 non-null  float64\n",
      " 21  V21     284807 non-null  float64\n",
      " 22  V22     284807 non-null  float64\n",
      " 23  V23     284807 non-null  float64\n",
      " 24  V24     284807 non-null  float64\n",
      " 25  V25     284807 non-null  float64\n",
      " 26  V26     284807 non-null  float64\n",
      " 27  V27     284807 non-null  float64\n",
      " 28  V28     284807 non-null  float64\n",
      " 29  Amount  284807 non-null  float64\n",
      " 30  Class   284807 non-null  int64  \n",
      "dtypes: float64(30), int64(1)\n",
      "memory usage: 67.4 MB\n"
     ]
    }
   ],
   "source": [
    "data.info()"
   ]
  },
  {
   "cell_type": "code",
   "execution_count": 8,
   "id": "12462679",
   "metadata": {},
   "outputs": [
    {
     "data": {
      "text/plain": [
       "Time      0\n",
       "V1        0\n",
       "V2        0\n",
       "V3        0\n",
       "V4        0\n",
       "V5        0\n",
       "V6        0\n",
       "V7        0\n",
       "V8        0\n",
       "V9        0\n",
       "V10       0\n",
       "V11       0\n",
       "V12       0\n",
       "V13       0\n",
       "V14       0\n",
       "V15       0\n",
       "V16       0\n",
       "V17       0\n",
       "V18       0\n",
       "V19       0\n",
       "V20       0\n",
       "V21       0\n",
       "V22       0\n",
       "V23       0\n",
       "V24       0\n",
       "V25       0\n",
       "V26       0\n",
       "V27       0\n",
       "V28       0\n",
       "Amount    0\n",
       "Class     0\n",
       "dtype: int64"
      ]
     },
     "execution_count": 8,
     "metadata": {},
     "output_type": "execute_result"
    }
   ],
   "source": [
    "data.isnull().sum()"
   ]
  },
  {
   "cell_type": "code",
   "execution_count": null,
   "id": "5c2af33d",
   "metadata": {},
   "outputs": [],
   "source": []
  },
  {
   "cell_type": "markdown",
   "id": "5d76d2c5",
   "metadata": {},
   "source": [
    "# Feature Scaling"
   ]
  },
  {
   "cell_type": "code",
   "execution_count": 5,
   "id": "60850405",
   "metadata": {},
   "outputs": [],
   "source": [
    "from sklearn.preprocessing import StandardScaler"
   ]
  },
  {
   "cell_type": "code",
   "execution_count": 11,
   "id": "2e050683",
   "metadata": {},
   "outputs": [],
   "source": [
    "#sc = StandardScaler()\n",
    "#data['Amount']=sc.fit_transform(pd.DataFrame(data['Amount']))"
   ]
  },
  {
   "cell_type": "code",
   "execution_count": 51,
   "id": "a1533863",
   "metadata": {},
   "outputs": [],
   "source": [
    "#data.head()"
   ]
  },
  {
   "cell_type": "code",
   "execution_count": 6,
   "id": "2c4f06d0",
   "metadata": {},
   "outputs": [],
   "source": [
    "data = data.drop(['Time'],axis=1)"
   ]
  },
  {
   "cell_type": "code",
   "execution_count": 14,
   "id": "62545427",
   "metadata": {},
   "outputs": [
    {
     "data": {
      "text/html": [
       "<div>\n",
       "<style scoped>\n",
       "    .dataframe tbody tr th:only-of-type {\n",
       "        vertical-align: middle;\n",
       "    }\n",
       "\n",
       "    .dataframe tbody tr th {\n",
       "        vertical-align: top;\n",
       "    }\n",
       "\n",
       "    .dataframe thead th {\n",
       "        text-align: right;\n",
       "    }\n",
       "</style>\n",
       "<table border=\"1\" class=\"dataframe\">\n",
       "  <thead>\n",
       "    <tr style=\"text-align: right;\">\n",
       "      <th></th>\n",
       "      <th>V1</th>\n",
       "      <th>V2</th>\n",
       "      <th>V3</th>\n",
       "      <th>V4</th>\n",
       "      <th>V5</th>\n",
       "      <th>V6</th>\n",
       "      <th>V7</th>\n",
       "      <th>V8</th>\n",
       "      <th>V9</th>\n",
       "      <th>V10</th>\n",
       "      <th>...</th>\n",
       "      <th>V21</th>\n",
       "      <th>V22</th>\n",
       "      <th>V23</th>\n",
       "      <th>V24</th>\n",
       "      <th>V25</th>\n",
       "      <th>V26</th>\n",
       "      <th>V27</th>\n",
       "      <th>V28</th>\n",
       "      <th>Amount</th>\n",
       "      <th>Class</th>\n",
       "    </tr>\n",
       "  </thead>\n",
       "  <tbody>\n",
       "    <tr>\n",
       "      <th>0</th>\n",
       "      <td>-1.359807</td>\n",
       "      <td>-0.072781</td>\n",
       "      <td>2.536347</td>\n",
       "      <td>1.378155</td>\n",
       "      <td>-0.338321</td>\n",
       "      <td>0.462388</td>\n",
       "      <td>0.239599</td>\n",
       "      <td>0.098698</td>\n",
       "      <td>0.363787</td>\n",
       "      <td>0.090794</td>\n",
       "      <td>...</td>\n",
       "      <td>-0.018307</td>\n",
       "      <td>0.277838</td>\n",
       "      <td>-0.110474</td>\n",
       "      <td>0.066928</td>\n",
       "      <td>0.128539</td>\n",
       "      <td>-0.189115</td>\n",
       "      <td>0.133558</td>\n",
       "      <td>-0.021053</td>\n",
       "      <td>0.244964</td>\n",
       "      <td>0</td>\n",
       "    </tr>\n",
       "    <tr>\n",
       "      <th>1</th>\n",
       "      <td>1.191857</td>\n",
       "      <td>0.266151</td>\n",
       "      <td>0.166480</td>\n",
       "      <td>0.448154</td>\n",
       "      <td>0.060018</td>\n",
       "      <td>-0.082361</td>\n",
       "      <td>-0.078803</td>\n",
       "      <td>0.085102</td>\n",
       "      <td>-0.255425</td>\n",
       "      <td>-0.166974</td>\n",
       "      <td>...</td>\n",
       "      <td>-0.225775</td>\n",
       "      <td>-0.638672</td>\n",
       "      <td>0.101288</td>\n",
       "      <td>-0.339846</td>\n",
       "      <td>0.167170</td>\n",
       "      <td>0.125895</td>\n",
       "      <td>-0.008983</td>\n",
       "      <td>0.014724</td>\n",
       "      <td>-0.342475</td>\n",
       "      <td>0</td>\n",
       "    </tr>\n",
       "    <tr>\n",
       "      <th>2</th>\n",
       "      <td>-1.358354</td>\n",
       "      <td>-1.340163</td>\n",
       "      <td>1.773209</td>\n",
       "      <td>0.379780</td>\n",
       "      <td>-0.503198</td>\n",
       "      <td>1.800499</td>\n",
       "      <td>0.791461</td>\n",
       "      <td>0.247676</td>\n",
       "      <td>-1.514654</td>\n",
       "      <td>0.207643</td>\n",
       "      <td>...</td>\n",
       "      <td>0.247998</td>\n",
       "      <td>0.771679</td>\n",
       "      <td>0.909412</td>\n",
       "      <td>-0.689281</td>\n",
       "      <td>-0.327642</td>\n",
       "      <td>-0.139097</td>\n",
       "      <td>-0.055353</td>\n",
       "      <td>-0.059752</td>\n",
       "      <td>1.160686</td>\n",
       "      <td>0</td>\n",
       "    </tr>\n",
       "    <tr>\n",
       "      <th>3</th>\n",
       "      <td>-0.966272</td>\n",
       "      <td>-0.185226</td>\n",
       "      <td>1.792993</td>\n",
       "      <td>-0.863291</td>\n",
       "      <td>-0.010309</td>\n",
       "      <td>1.247203</td>\n",
       "      <td>0.237609</td>\n",
       "      <td>0.377436</td>\n",
       "      <td>-1.387024</td>\n",
       "      <td>-0.054952</td>\n",
       "      <td>...</td>\n",
       "      <td>-0.108300</td>\n",
       "      <td>0.005274</td>\n",
       "      <td>-0.190321</td>\n",
       "      <td>-1.175575</td>\n",
       "      <td>0.647376</td>\n",
       "      <td>-0.221929</td>\n",
       "      <td>0.062723</td>\n",
       "      <td>0.061458</td>\n",
       "      <td>0.140534</td>\n",
       "      <td>0</td>\n",
       "    </tr>\n",
       "    <tr>\n",
       "      <th>4</th>\n",
       "      <td>-1.158233</td>\n",
       "      <td>0.877737</td>\n",
       "      <td>1.548718</td>\n",
       "      <td>0.403034</td>\n",
       "      <td>-0.407193</td>\n",
       "      <td>0.095921</td>\n",
       "      <td>0.592941</td>\n",
       "      <td>-0.270533</td>\n",
       "      <td>0.817739</td>\n",
       "      <td>0.753074</td>\n",
       "      <td>...</td>\n",
       "      <td>-0.009431</td>\n",
       "      <td>0.798278</td>\n",
       "      <td>-0.137458</td>\n",
       "      <td>0.141267</td>\n",
       "      <td>-0.206010</td>\n",
       "      <td>0.502292</td>\n",
       "      <td>0.219422</td>\n",
       "      <td>0.215153</td>\n",
       "      <td>-0.073403</td>\n",
       "      <td>0</td>\n",
       "    </tr>\n",
       "  </tbody>\n",
       "</table>\n",
       "<p>5 rows × 30 columns</p>\n",
       "</div>"
      ],
      "text/plain": [
       "         V1        V2        V3        V4        V5        V6        V7  \\\n",
       "0 -1.359807 -0.072781  2.536347  1.378155 -0.338321  0.462388  0.239599   \n",
       "1  1.191857  0.266151  0.166480  0.448154  0.060018 -0.082361 -0.078803   \n",
       "2 -1.358354 -1.340163  1.773209  0.379780 -0.503198  1.800499  0.791461   \n",
       "3 -0.966272 -0.185226  1.792993 -0.863291 -0.010309  1.247203  0.237609   \n",
       "4 -1.158233  0.877737  1.548718  0.403034 -0.407193  0.095921  0.592941   \n",
       "\n",
       "         V8        V9       V10  ...       V21       V22       V23       V24  \\\n",
       "0  0.098698  0.363787  0.090794  ... -0.018307  0.277838 -0.110474  0.066928   \n",
       "1  0.085102 -0.255425 -0.166974  ... -0.225775 -0.638672  0.101288 -0.339846   \n",
       "2  0.247676 -1.514654  0.207643  ...  0.247998  0.771679  0.909412 -0.689281   \n",
       "3  0.377436 -1.387024 -0.054952  ... -0.108300  0.005274 -0.190321 -1.175575   \n",
       "4 -0.270533  0.817739  0.753074  ... -0.009431  0.798278 -0.137458  0.141267   \n",
       "\n",
       "        V25       V26       V27       V28    Amount  Class  \n",
       "0  0.128539 -0.189115  0.133558 -0.021053  0.244964      0  \n",
       "1  0.167170  0.125895 -0.008983  0.014724 -0.342475      0  \n",
       "2 -0.327642 -0.139097 -0.055353 -0.059752  1.160686      0  \n",
       "3  0.647376 -0.221929  0.062723  0.061458  0.140534      0  \n",
       "4 -0.206010  0.502292  0.219422  0.215153 -0.073403      0  \n",
       "\n",
       "[5 rows x 30 columns]"
      ]
     },
     "execution_count": 14,
     "metadata": {},
     "output_type": "execute_result"
    }
   ],
   "source": [
    "data.head()"
   ]
  },
  {
   "cell_type": "code",
   "execution_count": 15,
   "id": "bcb3ed0f",
   "metadata": {},
   "outputs": [
    {
     "data": {
      "text/plain": [
       "(284807, 30)"
      ]
     },
     "execution_count": 15,
     "metadata": {},
     "output_type": "execute_result"
    }
   ],
   "source": [
    "data.shape"
   ]
  },
  {
   "cell_type": "code",
   "execution_count": 19,
   "id": "7261abde",
   "metadata": {},
   "outputs": [
    {
     "data": {
      "text/plain": [
       "0    284315\n",
       "1       492\n",
       "Name: Class, dtype: int64"
      ]
     },
     "execution_count": 19,
     "metadata": {},
     "output_type": "execute_result"
    }
   ],
   "source": [
    "data['Class'].value_counts()"
   ]
  },
  {
   "cell_type": "markdown",
   "id": "b0968b78",
   "metadata": {},
   "source": [
    "# Check For Duplicates"
   ]
  },
  {
   "cell_type": "code",
   "execution_count": 7,
   "id": "c4096300",
   "metadata": {},
   "outputs": [
    {
     "data": {
      "text/plain": [
       "True"
      ]
     },
     "execution_count": 7,
     "metadata": {},
     "output_type": "execute_result"
    }
   ],
   "source": [
    "data.duplicated().any()"
   ]
  },
  {
   "cell_type": "code",
   "execution_count": 8,
   "id": "6a442321",
   "metadata": {},
   "outputs": [],
   "source": [
    "data = data.drop_duplicates()"
   ]
  },
  {
   "cell_type": "code",
   "execution_count": 9,
   "id": "851790c3",
   "metadata": {},
   "outputs": [
    {
     "data": {
      "text/plain": [
       "(275663, 30)"
      ]
     },
     "execution_count": 9,
     "metadata": {},
     "output_type": "execute_result"
    }
   ],
   "source": [
    "data.shape"
   ]
  },
  {
   "cell_type": "code",
   "execution_count": 25,
   "id": "96acd5c6",
   "metadata": {},
   "outputs": [
    {
     "data": {
      "text/plain": [
       "9144"
      ]
     },
     "execution_count": 25,
     "metadata": {},
     "output_type": "execute_result"
    }
   ],
   "source": [
    "284807- 275663"
   ]
  },
  {
   "cell_type": "markdown",
   "id": "3e8f9d0c",
   "metadata": {},
   "source": [
    "# Data highly Imbalanced"
   ]
  },
  {
   "cell_type": "code",
   "execution_count": null,
   "id": "7aa7ce65",
   "metadata": {},
   "outputs": [],
   "source": []
  },
  {
   "cell_type": "code",
   "execution_count": 162,
   "id": "20495458",
   "metadata": {},
   "outputs": [],
   "source": [
    "import seaborn as sns"
   ]
  },
  {
   "cell_type": "code",
   "execution_count": 27,
   "id": "8a2c5735",
   "metadata": {},
   "outputs": [
    {
     "data": {
      "text/plain": [
       "<AxesSubplot:xlabel='Class', ylabel='count'>"
      ]
     },
     "execution_count": 27,
     "metadata": {},
     "output_type": "execute_result"
    },
    {
     "data": {
      "image/png": "[encoded data removed]",
      "text/plain": [
       "<Figure size 640x480 with 1 Axes>"
      ]
     },
     "metadata": {},
     "output_type": "display_data"
    }
   ],
   "source": [
    "sns.countplot(data['Class'])"
   ]
  },
  {
   "cell_type": "code",
   "execution_count": 10,
   "id": "55f2468d",
   "metadata": {},
   "outputs": [],
   "source": [
    "X = data.drop('Class',axis=1)\n",
    "y = data['Class']"
   ]
  },
  {
   "cell_type": "code",
   "execution_count": 11,
   "id": "e5e66a42",
   "metadata": {},
   "outputs": [
    {
     "data": {
      "text/html": [
       "<div>\n",
       "<style scoped>\n",
       "    .dataframe tbody tr th:only-of-type {\n",
       "        vertical-align: middle;\n",
       "    }\n",
       "\n",
       "    .dataframe tbody tr th {\n",
       "        vertical-align: top;\n",
       "    }\n",
       "\n",
       "    .dataframe thead th {\n",
       "        text-align: right;\n",
       "    }\n",
       "</style>\n",
       "<table border=\"1\" class=\"dataframe\">\n",
       "  <thead>\n",
       "    <tr style=\"text-align: right;\">\n",
       "      <th></th>\n",
       "      <th>V1</th>\n",
       "      <th>V2</th>\n",
       "      <th>V3</th>\n",
       "      <th>V4</th>\n",
       "      <th>V5</th>\n",
       "      <th>V6</th>\n",
       "      <th>V7</th>\n",
       "      <th>V8</th>\n",
       "      <th>V9</th>\n",
       "      <th>V10</th>\n",
       "      <th>...</th>\n",
       "      <th>V20</th>\n",
       "      <th>V21</th>\n",
       "      <th>V22</th>\n",
       "      <th>V23</th>\n",
       "      <th>V24</th>\n",
       "      <th>V25</th>\n",
       "      <th>V26</th>\n",
       "      <th>V27</th>\n",
       "      <th>V28</th>\n",
       "      <th>Amount</th>\n",
       "    </tr>\n",
       "  </thead>\n",
       "  <tbody>\n",
       "    <tr>\n",
       "      <th>0</th>\n",
       "      <td>-1.359807</td>\n",
       "      <td>-0.072781</td>\n",
       "      <td>2.536347</td>\n",
       "      <td>1.378155</td>\n",
       "      <td>-0.338321</td>\n",
       "      <td>0.462388</td>\n",
       "      <td>0.239599</td>\n",
       "      <td>0.098698</td>\n",
       "      <td>0.363787</td>\n",
       "      <td>0.090794</td>\n",
       "      <td>...</td>\n",
       "      <td>0.251412</td>\n",
       "      <td>-0.018307</td>\n",
       "      <td>0.277838</td>\n",
       "      <td>-0.110474</td>\n",
       "      <td>0.066928</td>\n",
       "      <td>0.128539</td>\n",
       "      <td>-0.189115</td>\n",
       "      <td>0.133558</td>\n",
       "      <td>-0.021053</td>\n",
       "      <td>149.62</td>\n",
       "    </tr>\n",
       "    <tr>\n",
       "      <th>1</th>\n",
       "      <td>1.191857</td>\n",
       "      <td>0.266151</td>\n",
       "      <td>0.166480</td>\n",
       "      <td>0.448154</td>\n",
       "      <td>0.060018</td>\n",
       "      <td>-0.082361</td>\n",
       "      <td>-0.078803</td>\n",
       "      <td>0.085102</td>\n",
       "      <td>-0.255425</td>\n",
       "      <td>-0.166974</td>\n",
       "      <td>...</td>\n",
       "      <td>-0.069083</td>\n",
       "      <td>-0.225775</td>\n",
       "      <td>-0.638672</td>\n",
       "      <td>0.101288</td>\n",
       "      <td>-0.339846</td>\n",
       "      <td>0.167170</td>\n",
       "      <td>0.125895</td>\n",
       "      <td>-0.008983</td>\n",
       "      <td>0.014724</td>\n",
       "      <td>2.69</td>\n",
       "    </tr>\n",
       "    <tr>\n",
       "      <th>2</th>\n",
       "      <td>-1.358354</td>\n",
       "      <td>-1.340163</td>\n",
       "      <td>1.773209</td>\n",
       "      <td>0.379780</td>\n",
       "      <td>-0.503198</td>\n",
       "      <td>1.800499</td>\n",
       "      <td>0.791461</td>\n",
       "      <td>0.247676</td>\n",
       "      <td>-1.514654</td>\n",
       "      <td>0.207643</td>\n",
       "      <td>...</td>\n",
       "      <td>0.524980</td>\n",
       "      <td>0.247998</td>\n",
       "      <td>0.771679</td>\n",
       "      <td>0.909412</td>\n",
       "      <td>-0.689281</td>\n",
       "      <td>-0.327642</td>\n",
       "      <td>-0.139097</td>\n",
       "      <td>-0.055353</td>\n",
       "      <td>-0.059752</td>\n",
       "      <td>378.66</td>\n",
       "    </tr>\n",
       "    <tr>\n",
       "      <th>3</th>\n",
       "      <td>-0.966272</td>\n",
       "      <td>-0.185226</td>\n",
       "      <td>1.792993</td>\n",
       "      <td>-0.863291</td>\n",
       "      <td>-0.010309</td>\n",
       "      <td>1.247203</td>\n",
       "      <td>0.237609</td>\n",
       "      <td>0.377436</td>\n",
       "      <td>-1.387024</td>\n",
       "      <td>-0.054952</td>\n",
       "      <td>...</td>\n",
       "      <td>-0.208038</td>\n",
       "      <td>-0.108300</td>\n",
       "      <td>0.005274</td>\n",
       "      <td>-0.190321</td>\n",
       "      <td>-1.175575</td>\n",
       "      <td>0.647376</td>\n",
       "      <td>-0.221929</td>\n",
       "      <td>0.062723</td>\n",
       "      <td>0.061458</td>\n",
       "      <td>123.50</td>\n",
       "    </tr>\n",
       "    <tr>\n",
       "      <th>4</th>\n",
       "      <td>-1.158233</td>\n",
       "      <td>0.877737</td>\n",
       "      <td>1.548718</td>\n",
       "      <td>0.403034</td>\n",
       "      <td>-0.407193</td>\n",
       "      <td>0.095921</td>\n",
       "      <td>0.592941</td>\n",
       "      <td>-0.270533</td>\n",
       "      <td>0.817739</td>\n",
       "      <td>0.753074</td>\n",
       "      <td>...</td>\n",
       "      <td>0.408542</td>\n",
       "      <td>-0.009431</td>\n",
       "      <td>0.798278</td>\n",
       "      <td>-0.137458</td>\n",
       "      <td>0.141267</td>\n",
       "      <td>-0.206010</td>\n",
       "      <td>0.502292</td>\n",
       "      <td>0.219422</td>\n",
       "      <td>0.215153</td>\n",
       "      <td>69.99</td>\n",
       "    </tr>\n",
       "  </tbody>\n",
       "</table>\n",
       "<p>5 rows × 29 columns</p>\n",
       "</div>"
      ],
      "text/plain": [
       "         V1        V2        V3        V4        V5        V6        V7  \\\n",
       "0 -1.359807 -0.072781  2.536347  1.378155 -0.338321  0.462388  0.239599   \n",
       "1  1.191857  0.266151  0.166480  0.448154  0.060018 -0.082361 -0.078803   \n",
       "2 -1.358354 -1.340163  1.773209  0.379780 -0.503198  1.800499  0.791461   \n",
       "3 -0.966272 -0.185226  1.792993 -0.863291 -0.010309  1.247203  0.237609   \n",
       "4 -1.158233  0.877737  1.548718  0.403034 -0.407193  0.095921  0.592941   \n",
       "\n",
       "         V8        V9       V10  ...       V20       V21       V22       V23  \\\n",
       "0  0.098698  0.363787  0.090794  ...  0.251412 -0.018307  0.277838 -0.110474   \n",
       "1  0.085102 -0.255425 -0.166974  ... -0.069083 -0.225775 -0.638672  0.101288   \n",
       "2  0.247676 -1.514654  0.207643  ...  0.524980  0.247998  0.771679  0.909412   \n",
       "3  0.377436 -1.387024 -0.054952  ... -0.208038 -0.108300  0.005274 -0.190321   \n",
       "4 -0.270533  0.817739  0.753074  ...  0.408542 -0.009431  0.798278 -0.137458   \n",
       "\n",
       "        V24       V25       V26       V27       V28  Amount  \n",
       "0  0.066928  0.128539 -0.189115  0.133558 -0.021053  149.62  \n",
       "1 -0.339846  0.167170  0.125895 -0.008983  0.014724    2.69  \n",
       "2 -0.689281 -0.327642 -0.139097 -0.055353 -0.059752  378.66  \n",
       "3 -1.175575  0.647376 -0.221929  0.062723  0.061458  123.50  \n",
       "4  0.141267 -0.206010  0.502292  0.219422  0.215153   69.99  \n",
       "\n",
       "[5 rows x 29 columns]"
      ]
     },
     "execution_count": 11,
     "metadata": {},
     "output_type": "execute_result"
    }
   ],
   "source": [
    "X.head()"
   ]
  },
  {
   "cell_type": "code",
   "execution_count": 12,
   "id": "9ab9cf70",
   "metadata": {},
   "outputs": [
    {
     "data": {
      "text/plain": [
       "0    0\n",
       "1    0\n",
       "2    0\n",
       "3    0\n",
       "4    0\n",
       "Name: Class, dtype: int64"
      ]
     },
     "execution_count": 12,
     "metadata": {},
     "output_type": "execute_result"
    }
   ],
   "source": [
    "y.head()"
   ]
  },
  {
   "cell_type": "code",
   "execution_count": 51,
   "id": "77aebbf0",
   "metadata": {},
   "outputs": [],
   "source": [
    "from sklearn.model_selection import train_test_split\n",
    "X_train,X_test,y_train,y_test = train_test_split(X,y,test_size=0.20,\n",
    "                                                 random_state=42,stratify=y )"
   ]
  },
  {
   "cell_type": "code",
   "execution_count": 14,
   "id": "160a03e7",
   "metadata": {},
   "outputs": [],
   "source": [
    "sc = StandardScaler()\n",
    "X_train['Amount']=sc.fit_transform(pd.DataFrame(X_train['Amount']))"
   ]
  },
  {
   "cell_type": "code",
   "execution_count": 15,
   "id": "d973fc13",
   "metadata": {},
   "outputs": [],
   "source": [
    "sc = StandardScaler()\n",
    "X_test['Amount']=sc.fit_transform(pd.DataFrame(X_test['Amount']))"
   ]
  },
  {
   "cell_type": "code",
   "execution_count": 16,
   "id": "dbbfc277",
   "metadata": {},
   "outputs": [
    {
     "data": {
      "text/plain": [
       "(220530, 29)"
      ]
     },
     "execution_count": 16,
     "metadata": {},
     "output_type": "execute_result"
    }
   ],
   "source": [
    "X_train.shape"
   ]
  },
  {
   "cell_type": "code",
   "execution_count": 54,
   "id": "0dd228e4",
   "metadata": {},
   "outputs": [
    {
     "data": {
      "text/html": [
       "<div>\n",
       "<style scoped>\n",
       "    .dataframe tbody tr th:only-of-type {\n",
       "        vertical-align: middle;\n",
       "    }\n",
       "\n",
       "    .dataframe tbody tr th {\n",
       "        vertical-align: top;\n",
       "    }\n",
       "\n",
       "    .dataframe thead th {\n",
       "        text-align: right;\n",
       "    }\n",
       "</style>\n",
       "<table border=\"1\" class=\"dataframe\">\n",
       "  <thead>\n",
       "    <tr style=\"text-align: right;\">\n",
       "      <th></th>\n",
       "      <th>Time</th>\n",
       "      <th>V1</th>\n",
       "      <th>V2</th>\n",
       "      <th>V3</th>\n",
       "      <th>V4</th>\n",
       "      <th>V5</th>\n",
       "      <th>V6</th>\n",
       "      <th>V7</th>\n",
       "      <th>V8</th>\n",
       "      <th>V9</th>\n",
       "      <th>...</th>\n",
       "      <th>V20</th>\n",
       "      <th>V21</th>\n",
       "      <th>V22</th>\n",
       "      <th>V23</th>\n",
       "      <th>V24</th>\n",
       "      <th>V25</th>\n",
       "      <th>V26</th>\n",
       "      <th>V27</th>\n",
       "      <th>V28</th>\n",
       "      <th>Amount</th>\n",
       "    </tr>\n",
       "  </thead>\n",
       "  <tbody>\n",
       "    <tr>\n",
       "      <th>79119</th>\n",
       "      <td>57873.0</td>\n",
       "      <td>-1.353894</td>\n",
       "      <td>-1.081034</td>\n",
       "      <td>1.787587</td>\n",
       "      <td>-1.803254</td>\n",
       "      <td>-0.235223</td>\n",
       "      <td>2.177295</td>\n",
       "      <td>1.014795</td>\n",
       "      <td>0.549627</td>\n",
       "      <td>0.629906</td>\n",
       "      <td>...</td>\n",
       "      <td>0.420106</td>\n",
       "      <td>0.182520</td>\n",
       "      <td>0.367052</td>\n",
       "      <td>0.805029</td>\n",
       "      <td>-0.981966</td>\n",
       "      <td>-0.783392</td>\n",
       "      <td>0.905245</td>\n",
       "      <td>-0.176870</td>\n",
       "      <td>-0.093081</td>\n",
       "      <td>0.909212</td>\n",
       "    </tr>\n",
       "    <tr>\n",
       "      <th>265736</th>\n",
       "      <td>162025.0</td>\n",
       "      <td>-0.059936</td>\n",
       "      <td>0.582525</td>\n",
       "      <td>-1.369698</td>\n",
       "      <td>-1.100370</td>\n",
       "      <td>3.707608</td>\n",
       "      <td>3.396709</td>\n",
       "      <td>1.218666</td>\n",
       "      <td>0.541196</td>\n",
       "      <td>-0.507983</td>\n",
       "      <td>...</td>\n",
       "      <td>-0.103629</td>\n",
       "      <td>0.069615</td>\n",
       "      <td>0.311566</td>\n",
       "      <td>-0.268906</td>\n",
       "      <td>0.690685</td>\n",
       "      <td>0.463247</td>\n",
       "      <td>-0.637914</td>\n",
       "      <td>-0.121454</td>\n",
       "      <td>-0.196513</td>\n",
       "      <td>-0.218631</td>\n",
       "    </tr>\n",
       "    <tr>\n",
       "      <th>42801</th>\n",
       "      <td>41251.0</td>\n",
       "      <td>-0.362164</td>\n",
       "      <td>0.715165</td>\n",
       "      <td>1.783253</td>\n",
       "      <td>0.230848</td>\n",
       "      <td>-0.240500</td>\n",
       "      <td>-0.508633</td>\n",
       "      <td>0.589763</td>\n",
       "      <td>-0.013746</td>\n",
       "      <td>-0.048097</td>\n",
       "      <td>...</td>\n",
       "      <td>-0.036132</td>\n",
       "      <td>-0.212595</td>\n",
       "      <td>-0.515372</td>\n",
       "      <td>-0.044853</td>\n",
       "      <td>0.385330</td>\n",
       "      <td>-0.126762</td>\n",
       "      <td>0.139889</td>\n",
       "      <td>0.031010</td>\n",
       "      <td>0.057977</td>\n",
       "      <td>-0.271442</td>\n",
       "    </tr>\n",
       "    <tr>\n",
       "      <th>172689</th>\n",
       "      <td>121201.0</td>\n",
       "      <td>-0.370982</td>\n",
       "      <td>0.446004</td>\n",
       "      <td>-0.732017</td>\n",
       "      <td>-1.088288</td>\n",
       "      <td>1.799175</td>\n",
       "      <td>-1.117223</td>\n",
       "      <td>1.502962</td>\n",
       "      <td>-0.553382</td>\n",
       "      <td>-0.240976</td>\n",
       "      <td>...</td>\n",
       "      <td>-0.233555</td>\n",
       "      <td>0.263039</td>\n",
       "      <td>0.937860</td>\n",
       "      <td>-0.198459</td>\n",
       "      <td>0.728053</td>\n",
       "      <td>0.203829</td>\n",
       "      <td>-0.522782</td>\n",
       "      <td>-0.376116</td>\n",
       "      <td>-0.103404</td>\n",
       "      <td>-0.325679</td>\n",
       "    </tr>\n",
       "    <tr>\n",
       "      <th>179949</th>\n",
       "      <td>124306.0</td>\n",
       "      <td>0.695644</td>\n",
       "      <td>0.177228</td>\n",
       "      <td>0.481414</td>\n",
       "      <td>-0.338853</td>\n",
       "      <td>-0.122807</td>\n",
       "      <td>0.074431</td>\n",
       "      <td>-0.509006</td>\n",
       "      <td>-0.775719</td>\n",
       "      <td>0.982836</td>\n",
       "      <td>...</td>\n",
       "      <td>-0.275961</td>\n",
       "      <td>0.956704</td>\n",
       "      <td>0.468104</td>\n",
       "      <td>-0.195806</td>\n",
       "      <td>0.709315</td>\n",
       "      <td>0.487912</td>\n",
       "      <td>-0.246186</td>\n",
       "      <td>0.196872</td>\n",
       "      <td>0.197452</td>\n",
       "      <td>-0.311060</td>\n",
       "    </tr>\n",
       "    <tr>\n",
       "      <th>...</th>\n",
       "      <td>...</td>\n",
       "      <td>...</td>\n",
       "      <td>...</td>\n",
       "      <td>...</td>\n",
       "      <td>...</td>\n",
       "      <td>...</td>\n",
       "      <td>...</td>\n",
       "      <td>...</td>\n",
       "      <td>...</td>\n",
       "      <td>...</td>\n",
       "      <td>...</td>\n",
       "      <td>...</td>\n",
       "      <td>...</td>\n",
       "      <td>...</td>\n",
       "      <td>...</td>\n",
       "      <td>...</td>\n",
       "      <td>...</td>\n",
       "      <td>...</td>\n",
       "      <td>...</td>\n",
       "      <td>...</td>\n",
       "      <td>...</td>\n",
       "    </tr>\n",
       "    <tr>\n",
       "      <th>120348</th>\n",
       "      <td>75794.0</td>\n",
       "      <td>-0.188193</td>\n",
       "      <td>-3.244306</td>\n",
       "      <td>-1.083455</td>\n",
       "      <td>0.136170</td>\n",
       "      <td>-1.626809</td>\n",
       "      <td>-0.517792</td>\n",
       "      <td>0.786109</td>\n",
       "      <td>-0.401554</td>\n",
       "      <td>-0.642671</td>\n",
       "      <td>...</td>\n",
       "      <td>1.137602</td>\n",
       "      <td>0.011795</td>\n",
       "      <td>-1.341362</td>\n",
       "      <td>-0.791988</td>\n",
       "      <td>-0.064471</td>\n",
       "      <td>0.141139</td>\n",
       "      <td>1.038062</td>\n",
       "      <td>-0.238098</td>\n",
       "      <td>0.136452</td>\n",
       "      <td>3.014509</td>\n",
       "    </tr>\n",
       "    <tr>\n",
       "      <th>260136</th>\n",
       "      <td>159419.0</td>\n",
       "      <td>0.149260</td>\n",
       "      <td>0.988698</td>\n",
       "      <td>-0.605170</td>\n",
       "      <td>-0.788264</td>\n",
       "      <td>1.238822</td>\n",
       "      <td>-0.203064</td>\n",
       "      <td>0.861209</td>\n",
       "      <td>0.067349</td>\n",
       "      <td>-0.279204</td>\n",
       "      <td>...</td>\n",
       "      <td>0.045101</td>\n",
       "      <td>-0.326673</td>\n",
       "      <td>-0.816542</td>\n",
       "      <td>0.008957</td>\n",
       "      <td>-0.010456</td>\n",
       "      <td>-0.377837</td>\n",
       "      <td>0.128193</td>\n",
       "      <td>0.219217</td>\n",
       "      <td>0.068558</td>\n",
       "      <td>-0.347112</td>\n",
       "    </tr>\n",
       "    <tr>\n",
       "      <th>132427</th>\n",
       "      <td>79983.0</td>\n",
       "      <td>1.259310</td>\n",
       "      <td>-0.049484</td>\n",
       "      <td>-0.721776</td>\n",
       "      <td>0.071903</td>\n",
       "      <td>1.864771</td>\n",
       "      <td>3.635628</td>\n",
       "      <td>-0.821682</td>\n",
       "      <td>0.929256</td>\n",
       "      <td>0.128685</td>\n",
       "      <td>...</td>\n",
       "      <td>-0.003257</td>\n",
       "      <td>0.070189</td>\n",
       "      <td>0.104264</td>\n",
       "      <td>-0.107993</td>\n",
       "      <td>1.004823</td>\n",
       "      <td>0.674600</td>\n",
       "      <td>-0.275199</td>\n",
       "      <td>0.045933</td>\n",
       "      <td>0.025074</td>\n",
       "      <td>-0.332810</td>\n",
       "    </tr>\n",
       "    <tr>\n",
       "      <th>147428</th>\n",
       "      <td>88536.0</td>\n",
       "      <td>1.982903</td>\n",
       "      <td>-0.134427</td>\n",
       "      <td>-1.161183</td>\n",
       "      <td>0.472515</td>\n",
       "      <td>-0.043755</td>\n",
       "      <td>-1.080473</td>\n",
       "      <td>0.306983</td>\n",
       "      <td>-0.373167</td>\n",
       "      <td>0.454594</td>\n",
       "      <td>...</td>\n",
       "      <td>-0.110161</td>\n",
       "      <td>-0.212230</td>\n",
       "      <td>-0.472417</td>\n",
       "      <td>0.248672</td>\n",
       "      <td>0.025584</td>\n",
       "      <td>-0.195097</td>\n",
       "      <td>0.272711</td>\n",
       "      <td>-0.071660</td>\n",
       "      <td>-0.055715</td>\n",
       "      <td>-0.194227</td>\n",
       "    </tr>\n",
       "    <tr>\n",
       "      <th>122429</th>\n",
       "      <td>76558.0</td>\n",
       "      <td>-0.465150</td>\n",
       "      <td>0.818433</td>\n",
       "      <td>1.326391</td>\n",
       "      <td>-1.345201</td>\n",
       "      <td>0.584115</td>\n",
       "      <td>-0.683284</td>\n",
       "      <td>0.856022</td>\n",
       "      <td>-0.178265</td>\n",
       "      <td>-0.537311</td>\n",
       "      <td>...</td>\n",
       "      <td>0.049275</td>\n",
       "      <td>-0.235506</td>\n",
       "      <td>-0.719605</td>\n",
       "      <td>-0.290143</td>\n",
       "      <td>-0.387924</td>\n",
       "      <td>0.413861</td>\n",
       "      <td>0.813386</td>\n",
       "      <td>-0.130873</td>\n",
       "      <td>-0.047641</td>\n",
       "      <td>-0.350638</td>\n",
       "    </tr>\n",
       "  </tbody>\n",
       "</table>\n",
       "<p>226980 rows × 30 columns</p>\n",
       "</div>"
      ],
      "text/plain": [
       "            Time        V1        V2        V3        V4        V5        V6  \\\n",
       "79119    57873.0 -1.353894 -1.081034  1.787587 -1.803254 -0.235223  2.177295   \n",
       "265736  162025.0 -0.059936  0.582525 -1.369698 -1.100370  3.707608  3.396709   \n",
       "42801    41251.0 -0.362164  0.715165  1.783253  0.230848 -0.240500 -0.508633   \n",
       "172689  121201.0 -0.370982  0.446004 -0.732017 -1.088288  1.799175 -1.117223   \n",
       "179949  124306.0  0.695644  0.177228  0.481414 -0.338853 -0.122807  0.074431   \n",
       "...          ...       ...       ...       ...       ...       ...       ...   \n",
       "120348   75794.0 -0.188193 -3.244306 -1.083455  0.136170 -1.626809 -0.517792   \n",
       "260136  159419.0  0.149260  0.988698 -0.605170 -0.788264  1.238822 -0.203064   \n",
       "132427   79983.0  1.259310 -0.049484 -0.721776  0.071903  1.864771  3.635628   \n",
       "147428   88536.0  1.982903 -0.134427 -1.161183  0.472515 -0.043755 -1.080473   \n",
       "122429   76558.0 -0.465150  0.818433  1.326391 -1.345201  0.584115 -0.683284   \n",
       "\n",
       "              V7        V8        V9  ...       V20       V21       V22  \\\n",
       "79119   1.014795  0.549627  0.629906  ...  0.420106  0.182520  0.367052   \n",
       "265736  1.218666  0.541196 -0.507983  ... -0.103629  0.069615  0.311566   \n",
       "42801   0.589763 -0.013746 -0.048097  ... -0.036132 -0.212595 -0.515372   \n",
       "172689  1.502962 -0.553382 -0.240976  ... -0.233555  0.263039  0.937860   \n",
       "179949 -0.509006 -0.775719  0.982836  ... -0.275961  0.956704  0.468104   \n",
       "...          ...       ...       ...  ...       ...       ...       ...   \n",
       "120348  0.786109 -0.401554 -0.642671  ...  1.137602  0.011795 -1.341362   \n",
       "260136  0.861209  0.067349 -0.279204  ...  0.045101 -0.326673 -0.816542   \n",
       "132427 -0.821682  0.929256  0.128685  ... -0.003257  0.070189  0.104264   \n",
       "147428  0.306983 -0.373167  0.454594  ... -0.110161 -0.212230 -0.472417   \n",
       "122429  0.856022 -0.178265 -0.537311  ...  0.049275 -0.235506 -0.719605   \n",
       "\n",
       "             V23       V24       V25       V26       V27       V28    Amount  \n",
       "79119   0.805029 -0.981966 -0.783392  0.905245 -0.176870 -0.093081  0.909212  \n",
       "265736 -0.268906  0.690685  0.463247 -0.637914 -0.121454 -0.196513 -0.218631  \n",
       "42801  -0.044853  0.385330 -0.126762  0.139889  0.031010  0.057977 -0.271442  \n",
       "172689 -0.198459  0.728053  0.203829 -0.522782 -0.376116 -0.103404 -0.325679  \n",
       "179949 -0.195806  0.709315  0.487912 -0.246186  0.196872  0.197452 -0.311060  \n",
       "...          ...       ...       ...       ...       ...       ...       ...  \n",
       "120348 -0.791988 -0.064471  0.141139  1.038062 -0.238098  0.136452  3.014509  \n",
       "260136  0.008957 -0.010456 -0.377837  0.128193  0.219217  0.068558 -0.347112  \n",
       "132427 -0.107993  1.004823  0.674600 -0.275199  0.045933  0.025074 -0.332810  \n",
       "147428  0.248672  0.025584 -0.195097  0.272711 -0.071660 -0.055715 -0.194227  \n",
       "122429 -0.290143 -0.387924  0.413861  0.813386 -0.130873 -0.047641 -0.350638  \n",
       "\n",
       "[226980 rows x 30 columns]"
      ]
     },
     "execution_count": 54,
     "metadata": {},
     "output_type": "execute_result"
    }
   ],
   "source": []
  },
  {
   "cell_type": "code",
   "execution_count": 18,
   "id": "745dccdb",
   "metadata": {},
   "outputs": [],
   "source": [
    "X_train = X_train.drop(['Time'],axis=1)"
   ]
  },
  {
   "cell_type": "code",
   "execution_count": 56,
   "id": "dd8f153f",
   "metadata": {},
   "outputs": [],
   "source": [
    "X_test = X_test.drop(['Time'],axis=1)"
   ]
  },
  {
   "cell_type": "code",
   "execution_count": 19,
   "id": "cadb3bcf",
   "metadata": {},
   "outputs": [],
   "source": [
    "from sklearn.model_selection import StratifiedKFold\n",
    "from sklearn.ensemble import RandomForestClassifier\n",
    "\n",
    "#We are going to ensure that we have the same splits of the data every time. \n",
    "#We can ensure this by creating a KFold object, kf, and passing cv=kf instead of the more common cv=5.\n",
    "\n",
    "kf = StratifiedKFold(n_splits=5, shuffle=False)"
   ]
  },
  {
   "cell_type": "markdown",
   "id": "a655b090",
   "metadata": {},
   "source": [
    "# Random Forest without Sampling"
   ]
  },
  {
   "cell_type": "code",
   "execution_count": 61,
   "id": "ebafd3e7",
   "metadata": {},
   "outputs": [],
   "source": [
    "rf = RandomForestClassifier(n_estimators=100,max_depth= 12, random_state=13, criterion='gini')\n"
   ]
  },
  {
   "cell_type": "code",
   "execution_count": null,
   "id": "28de0ebf",
   "metadata": {},
   "outputs": [],
   "source": [
    "from sklearn.model_selection import GridSearchCV\n",
    "\n",
    "params = {\n",
    "    'n_estimators': [50, 100, 200],\n",
    "    'max_depth': [4, 6, 10, 12],\n",
    "    'random_state': [13]\n",
    "}\n",
    "\n",
    "grid_rf = GridSearchCV(rf, param_grid=params, cv=kf, \n",
    "                          scoring='recall').fit(X_train, y_train)"
   ]
  },
  {
   "cell_type": "code",
   "execution_count": 62,
   "id": "c1514798",
   "metadata": {},
   "outputs": [
    {
     "data": {
      "text/plain": [
       "RandomForestClassifier(max_depth=12, random_state=13)"
      ]
     },
     "execution_count": 62,
     "metadata": {},
     "output_type": "execute_result"
    }
   ],
   "source": [
    "rf.fit(X_train, y_train)"
   ]
  },
  {
   "cell_type": "code",
   "execution_count": 64,
   "id": "4d4c6665",
   "metadata": {},
   "outputs": [],
   "source": [
    "y_pred = rf.predict(X_test)"
   ]
  },
  {
   "cell_type": "code",
   "execution_count": 67,
   "id": "347bfb6c",
   "metadata": {},
   "outputs": [],
   "source": [
    "y_pred_train = rf.predict(X_train)"
   ]
  },
  {
   "cell_type": "code",
   "execution_count": null,
   "id": "2e122ffc",
   "metadata": {},
   "outputs": [],
   "source": [
    "#Tain dataset"
   ]
  },
  {
   "cell_type": "code",
   "execution_count": 75,
   "id": "b0862c69",
   "metadata": {},
   "outputs": [
    {
     "name": "stdout",
     "output_type": "stream",
     "text": [
      "[[226597      0]\n",
      " [    56    327]]\n"
     ]
    }
   ],
   "source": [
    "from sklearn.metrics import confusion_matrix, recall_score, precision_score, f1_score, accuracy_score\n",
    "cm1 = confusion_matrix(y_train, y_pred_train, labels=rf.classes_)\n",
    "\n",
    "rf_Recall1 = recall_score(y_train, y_pred_train)\n",
    "rf_Precision1 = precision_score(y_train, y_pred_train)\n",
    "rf_f11 = f1_score(y_train, y_pred_train)\n",
    "rf_accuracy1 = accuracy_score(y_train, y_pred_train)\n",
    "\n",
    "print(cm1)"
   ]
  },
  {
   "cell_type": "code",
   "execution_count": 76,
   "id": "f5085dca",
   "metadata": {},
   "outputs": [
    {
     "data": {
      "image/png": "[encoded data removed]",
      "text/plain": [
       "<Figure size 640x480 with 2 Axes>"
      ]
     },
     "metadata": {},
     "output_type": "display_data"
    }
   ],
   "source": [
    "#plt.matshow(cm1,annot=True)\n",
    "from sklearn.metrics import confusion_matrix, ConfusionMatrixDisplay\n",
    "disp = ConfusionMatrixDisplay(confusion_matrix=cm1,\n",
    "                              display_labels=rf.classes_)\n",
    "disp.plot()\n",
    "\n",
    "plt.show()\n"
   ]
  },
  {
   "cell_type": "code",
   "execution_count": null,
   "id": "f7c31ead",
   "metadata": {},
   "outputs": [],
   "source": [
    "#Testdata"
   ]
  },
  {
   "cell_type": "code",
   "execution_count": 77,
   "id": "4f3548a2",
   "metadata": {},
   "outputs": [
    {
     "name": "stdout",
     "output_type": "stream",
     "text": [
      "[[56654     2]\n",
      " [   25    65]]\n"
     ]
    }
   ],
   "source": [
    "from sklearn.metrics import confusion_matrix, recall_score, precision_score, f1_score, accuracy_score\n",
    "cm = confusion_matrix(y_test, y_pred,labels=rf.classes_)\n",
    "\n",
    "rf_Recall = recall_score(y_test, y_pred)\n",
    "rf_Precision = precision_score(y_test, y_pred)\n",
    "rf_f1 = f1_score(y_test, y_pred)\n",
    "rf_accuracy = accuracy_score(y_test, y_pred)\n",
    "\n",
    "print(cm)"
   ]
  },
  {
   "cell_type": "code",
   "execution_count": 78,
   "id": "40da31ee",
   "metadata": {},
   "outputs": [
    {
     "data": {
      "image/png": "[encoded data removed]",
      "text/plain": [
       "<Figure size 640x480 with 2 Axes>"
      ]
     },
     "metadata": {},
     "output_type": "display_data"
    }
   ],
   "source": [
    "#from sklearn.metrics import confusion_matrix, ConfusionMatrixDisplay\n",
    "disp = ConfusionMatrixDisplay(confusion_matrix=cm,\n",
    "                              display_labels=rf.classes_)\n",
    "disp.plot()\n",
    "\n",
    "plt.show()"
   ]
  },
  {
   "cell_type": "code",
   "execution_count": 66,
   "id": "d561057f",
   "metadata": {},
   "outputs": [
    {
     "data": {
      "text/html": [
       "<div>\n",
       "<style scoped>\n",
       "    .dataframe tbody tr th:only-of-type {\n",
       "        vertical-align: middle;\n",
       "    }\n",
       "\n",
       "    .dataframe tbody tr th {\n",
       "        vertical-align: top;\n",
       "    }\n",
       "\n",
       "    .dataframe thead th {\n",
       "        text-align: right;\n",
       "    }\n",
       "</style>\n",
       "<table border=\"1\" class=\"dataframe\">\n",
       "  <thead>\n",
       "    <tr style=\"text-align: right;\">\n",
       "      <th></th>\n",
       "      <th>Random Forest with</th>\n",
       "      <th>Recall</th>\n",
       "      <th>Precision</th>\n",
       "      <th>F1 Score</th>\n",
       "      <th>Accuracy</th>\n",
       "    </tr>\n",
       "  </thead>\n",
       "  <tbody>\n",
       "    <tr>\n",
       "      <th>0</th>\n",
       "      <td>No Under/Oversampling</td>\n",
       "      <td>0.722222</td>\n",
       "      <td>0.970149</td>\n",
       "      <td>0.828025</td>\n",
       "      <td>0.999524</td>\n",
       "    </tr>\n",
       "  </tbody>\n",
       "</table>\n",
       "</div>"
      ],
      "text/plain": [
       "      Random Forest with    Recall  Precision  F1 Score  Accuracy\n",
       "0  No Under/Oversampling  0.722222   0.970149  0.828025  0.999524"
      ]
     },
     "execution_count": 66,
     "metadata": {},
     "output_type": "execute_result"
    }
   ],
   "source": [
    "ndf = [(rf_Recall, rf_Precision, rf_f1, rf_accuracy)]\n",
    "\n",
    "rf_score = pd.DataFrame(data = ndf, columns=['Recall','Precision','F1 Score', 'Accuracy'])\n",
    "rf_score.insert(0, 'Random Forest with', 'No Under/Oversampling')\n",
    "rf_score"
   ]
  },
  {
   "cell_type": "code",
   "execution_count": null,
   "id": "60725291",
   "metadata": {},
   "outputs": [],
   "source": []
  },
  {
   "cell_type": "markdown",
   "id": "bdd2eb2b",
   "metadata": {},
   "source": [
    "# SMOTE (Synthetic Minority Oversampling Technique)"
   ]
  },
  {
   "cell_type": "code",
   "execution_count": 81,
   "id": "5b7e472d",
   "metadata": {},
   "outputs": [],
   "source": [
    "from imblearn.over_sampling import SMOTE\n",
    "from imblearn.pipeline import Pipeline, make_pipeline\n",
    "\n",
    "\n",
    "smote_pipeline = make_pipeline(SMOTE(random_state=42), RandomForestClassifier(n_estimators=100,max_depth= 12, random_state=13, criterion='gini'))"
   ]
  },
  {
   "cell_type": "code",
   "execution_count": 82,
   "id": "3083774b",
   "metadata": {},
   "outputs": [
    {
     "data": {
      "text/plain": [
       "Pipeline(steps=[('smote', SMOTE(random_state=42)),\n",
       "                ('randomforestclassifier',\n",
       "                 RandomForestClassifier(max_depth=12, random_state=13))])"
      ]
     },
     "execution_count": 82,
     "metadata": {},
     "output_type": "execute_result"
    }
   ],
   "source": [
    "smote_pipeline.fit(X_train, y_train)"
   ]
  },
  {
   "cell_type": "code",
   "execution_count": 89,
   "id": "7669dfcc",
   "metadata": {},
   "outputs": [],
   "source": [
    "y_pred = smote_pipeline.predict(X_test)"
   ]
  },
  {
   "cell_type": "code",
   "execution_count": null,
   "id": "376de7dc",
   "metadata": {},
   "outputs": [],
   "source": [
    "# Train data "
   ]
  },
  {
   "cell_type": "code",
   "execution_count": 94,
   "id": "a29694f4",
   "metadata": {},
   "outputs": [],
   "source": [
    "y_pred_train = smote_pipeline.predict(X_train)"
   ]
  },
  {
   "cell_type": "code",
   "execution_count": 95,
   "id": "d6a5c3b0",
   "metadata": {},
   "outputs": [
    {
     "name": "stdout",
     "output_type": "stream",
     "text": [
      "[[226395    202]\n",
      " [     2    381]]\n"
     ]
    }
   ],
   "source": [
    "from sklearn.metrics import confusion_matrix, recall_score, precision_score, f1_score, accuracy_score\n",
    "cm1 = confusion_matrix(y_train, y_pred_train, labels=rf.classes_)\n",
    "\n",
    "rf_Recall1 = recall_score(y_train, y_pred_train)\n",
    "rf_Precision1 = precision_score(y_train, y_pred_train)\n",
    "rf_f11 = f1_score(y_train, y_pred_train)\n",
    "rf_accuracy1 = accuracy_score(y_train, y_pred_train)\n",
    "\n",
    "print(cm1)"
   ]
  },
  {
   "cell_type": "code",
   "execution_count": 96,
   "id": "0e216828",
   "metadata": {},
   "outputs": [
    {
     "data": {
      "image/png": "[encoded data removed]",
      "text/plain": [
       "<Figure size 640x480 with 2 Axes>"
      ]
     },
     "metadata": {},
     "output_type": "display_data"
    }
   ],
   "source": [
    "from sklearn.metrics import confusion_matrix, ConfusionMatrixDisplay\n",
    "disp = ConfusionMatrixDisplay(confusion_matrix=cm1,\n",
    "                              display_labels=rf.classes_)\n",
    "disp.plot()\n",
    "\n",
    "plt.show()\n"
   ]
  },
  {
   "cell_type": "code",
   "execution_count": null,
   "id": "feb3a69d",
   "metadata": {},
   "outputs": [],
   "source": [
    "#Test data"
   ]
  },
  {
   "cell_type": "code",
   "execution_count": 92,
   "id": "d10be435",
   "metadata": {},
   "outputs": [
    {
     "name": "stdout",
     "output_type": "stream",
     "text": [
      "[[56609    47]\n",
      " [   18    72]]\n"
     ]
    }
   ],
   "source": [
    "cm = confusion_matrix(y_test, y_pred,labels=rf.classes_)\n",
    "\n",
    "smote_rf_Recall = recall_score(y_test, y_pred)\n",
    "smote_rf_Precision = precision_score(y_test, y_pred)\n",
    "smote_rf_f1 = f1_score(y_test, y_pred)\n",
    "smote_rf_accuracy = accuracy_score(y_test, y_pred)\n",
    "\n",
    "print(cm)"
   ]
  },
  {
   "cell_type": "code",
   "execution_count": 93,
   "id": "574b663d",
   "metadata": {},
   "outputs": [
    {
     "data": {
      "image/png": "[encoded data removed]",
      "text/plain": [
       "<Figure size 640x480 with 2 Axes>"
      ]
     },
     "metadata": {},
     "output_type": "display_data"
    }
   ],
   "source": [
    "disp = ConfusionMatrixDisplay(confusion_matrix=cm,\n",
    "                              display_labels=rf.classes_)\n",
    "disp.plot()\n",
    "\n",
    "plt.show()"
   ]
  },
  {
   "cell_type": "code",
   "execution_count": 91,
   "id": "5c5f9bbc",
   "metadata": {},
   "outputs": [
    {
     "data": {
      "text/html": [
       "<div>\n",
       "<style scoped>\n",
       "    .dataframe tbody tr th:only-of-type {\n",
       "        vertical-align: middle;\n",
       "    }\n",
       "\n",
       "    .dataframe tbody tr th {\n",
       "        vertical-align: top;\n",
       "    }\n",
       "\n",
       "    .dataframe thead th {\n",
       "        text-align: right;\n",
       "    }\n",
       "</style>\n",
       "<table border=\"1\" class=\"dataframe\">\n",
       "  <thead>\n",
       "    <tr style=\"text-align: right;\">\n",
       "      <th></th>\n",
       "      <th>Random Forest with</th>\n",
       "      <th>Recall</th>\n",
       "      <th>Precision</th>\n",
       "      <th>F1 Score</th>\n",
       "      <th>Accuracy</th>\n",
       "    </tr>\n",
       "  </thead>\n",
       "  <tbody>\n",
       "    <tr>\n",
       "      <th>0</th>\n",
       "      <td>SMOTE Oversampling</td>\n",
       "      <td>0.8</td>\n",
       "      <td>0.605042</td>\n",
       "      <td>0.688995</td>\n",
       "      <td>0.998855</td>\n",
       "    </tr>\n",
       "  </tbody>\n",
       "</table>\n",
       "</div>"
      ],
      "text/plain": [
       "   Random Forest with  Recall  Precision  F1 Score  Accuracy\n",
       "0  SMOTE Oversampling     0.8   0.605042  0.688995  0.998855"
      ]
     },
     "execution_count": 91,
     "metadata": {},
     "output_type": "execute_result"
    }
   ],
   "source": [
    "ndf = [(smote_rf_Recall, smote_rf_Precision, smote_rf_f1, smote_rf_accuracy)]\n",
    "\n",
    "smote_rf_score = pd.DataFrame(data = ndf, columns=['Recall','Precision','F1 Score', 'Accuracy'])\n",
    "smote_rf_score.insert(0, 'Random Forest with', 'SMOTE Oversampling')\n",
    "smote_rf_score"
   ]
  },
  {
   "cell_type": "code",
   "execution_count": null,
   "id": "00141eb2",
   "metadata": {},
   "outputs": [],
   "source": []
  },
  {
   "cell_type": "markdown",
   "id": "a4fb8d7a",
   "metadata": {},
   "source": [
    "# Combining SMOTE and Tomek Links"
   ]
  },
  {
   "cell_type": "code",
   "execution_count": 21,
   "id": "46174ad8",
   "metadata": {},
   "outputs": [],
   "source": [
    "from imblearn.pipeline import Pipeline, make_pipeline"
   ]
  },
  {
   "cell_type": "code",
   "execution_count": 22,
   "id": "aa0dd3a0",
   "metadata": {},
   "outputs": [],
   "source": [
    "from imblearn.combine import SMOTETomek\n",
    "from imblearn.under_sampling import TomekLinks\n",
    "tomekU = TomekLinks()\n",
    "\n",
    "SMOTETomek_pipeline = make_pipeline(SMOTETomek(tomek=TomekLinks(sampling_strategy='majority')), RandomForestClassifier(n_estimators=100,max_depth= 12, random_state=13, criterion='gini'))"
   ]
  },
  {
   "cell_type": "code",
   "execution_count": 23,
   "id": "56c56400",
   "metadata": {},
   "outputs": [
    {
     "data": {
      "text/plain": [
       "Pipeline(steps=[('smotetomek',\n",
       "                 SMOTETomek(tomek=TomekLinks(sampling_strategy='majority'))),\n",
       "                ('randomforestclassifier',\n",
       "                 RandomForestClassifier(max_depth=12, random_state=13))])"
      ]
     },
     "execution_count": 23,
     "metadata": {},
     "output_type": "execute_result"
    }
   ],
   "source": [
    "SMOTETomek_rf = SMOTETomek_pipeline\n",
    "SMOTETomek_rf.fit(X_train, y_train)"
   ]
  },
  {
   "cell_type": "code",
   "execution_count": null,
   "id": "15668237",
   "metadata": {},
   "outputs": [],
   "source": []
  },
  {
   "cell_type": "code",
   "execution_count": null,
   "id": "de7c4cb5",
   "metadata": {},
   "outputs": [],
   "source": [
    "# Train data"
   ]
  },
  {
   "cell_type": "code",
   "execution_count": 32,
   "id": "afe11bc1",
   "metadata": {},
   "outputs": [],
   "source": [
    "y_pred_train = SMOTETomek_rf.predict(X_train)"
   ]
  },
  {
   "cell_type": "code",
   "execution_count": 33,
   "id": "d91615c3",
   "metadata": {},
   "outputs": [
    {
     "name": "stdout",
     "output_type": "stream",
     "text": [
      "[[219960    188]\n",
      " [     2    380]]\n"
     ]
    }
   ],
   "source": [
    "from sklearn.metrics import confusion_matrix, recall_score, precision_score, f1_score, accuracy_score\n",
    "cm1 = confusion_matrix(y_train, y_pred_train, labels=SMOTETomek_rf.classes_)\n",
    "\n",
    "rf_Recall1 = recall_score(y_train, y_pred_train)\n",
    "rf_Precision1 = precision_score(y_train, y_pred_train)\n",
    "rf_f11 = f1_score(y_train, y_pred_train)\n",
    "rf_accuracy1 = accuracy_score(y_train, y_pred_train)\n",
    "\n",
    "print(cm1)"
   ]
  },
  {
   "cell_type": "code",
   "execution_count": 34,
   "id": "d2d263b8",
   "metadata": {},
   "outputs": [
    {
     "data": {
      "image/png": "[encoded data removed]",
      "text/plain": [
       "<Figure size 640x480 with 2 Axes>"
      ]
     },
     "metadata": {},
     "output_type": "display_data"
    }
   ],
   "source": [
    "from sklearn.metrics import confusion_matrix, ConfusionMatrixDisplay\n",
    "disp = ConfusionMatrixDisplay(confusion_matrix=cm1,\n",
    "                              display_labels=SMOTETomek_rf.classes_)\n",
    "disp.plot()\n",
    "\n",
    "plt.show()"
   ]
  },
  {
   "cell_type": "code",
   "execution_count": null,
   "id": "ddcbccb8",
   "metadata": {},
   "outputs": [],
   "source": []
  },
  {
   "cell_type": "code",
   "execution_count": null,
   "id": "8c2a2c6d",
   "metadata": {},
   "outputs": [],
   "source": [
    "#Test Data"
   ]
  },
  {
   "cell_type": "code",
   "execution_count": 24,
   "id": "5bb6cf05",
   "metadata": {},
   "outputs": [],
   "source": [
    "y_pred = SMOTETomek_rf.predict(X_test)"
   ]
  },
  {
   "cell_type": "code",
   "execution_count": 27,
   "id": "dd007b47",
   "metadata": {},
   "outputs": [
    {
     "name": "stdout",
     "output_type": "stream",
     "text": [
      "[[54986    56]\n",
      " [   18    73]]\n"
     ]
    }
   ],
   "source": [
    "from sklearn.metrics import confusion_matrix, recall_score, precision_score, f1_score, accuracy_score\n",
    "\n",
    "cm = confusion_matrix(y_test, y_pred,labels=SMOTETomek_rf.classes_)\n",
    "\n",
    "smote_rf_Recall = recall_score(y_test, y_pred)\n",
    "smote_rf_Precision = precision_score(y_test, y_pred)\n",
    "smote_rf_f1 = f1_score(y_test, y_pred)\n",
    "smote_rf_accuracy = accuracy_score(y_test, y_pred)\n",
    "\n",
    "print(cm)"
   ]
  },
  {
   "cell_type": "code",
   "execution_count": 30,
   "id": "130b1d6f",
   "metadata": {},
   "outputs": [
    {
     "data": {
      "image/png": "[encoded data removed]",
      "text/plain": [
       "<Figure size 640x480 with 2 Axes>"
      ]
     },
     "metadata": {},
     "output_type": "display_data"
    }
   ],
   "source": [
    "from sklearn.metrics import confusion_matrix, ConfusionMatrixDisplay\n",
    "disp = ConfusionMatrixDisplay(confusion_matrix=cm,\n",
    "                              display_labels=SMOTETomek_rf.classes_)\n",
    "disp.plot()\n",
    "\n",
    "plt.show()"
   ]
  },
  {
   "cell_type": "code",
   "execution_count": 31,
   "id": "b3ba22fe",
   "metadata": {},
   "outputs": [
    {
     "data": {
      "text/html": [
       "<div>\n",
       "<style scoped>\n",
       "    .dataframe tbody tr th:only-of-type {\n",
       "        vertical-align: middle;\n",
       "    }\n",
       "\n",
       "    .dataframe tbody tr th {\n",
       "        vertical-align: top;\n",
       "    }\n",
       "\n",
       "    .dataframe thead th {\n",
       "        text-align: right;\n",
       "    }\n",
       "</style>\n",
       "<table border=\"1\" class=\"dataframe\">\n",
       "  <thead>\n",
       "    <tr style=\"text-align: right;\">\n",
       "      <th></th>\n",
       "      <th>Random Forest with</th>\n",
       "      <th>Recall</th>\n",
       "      <th>Precision</th>\n",
       "      <th>F1 Score</th>\n",
       "      <th>Accuracy</th>\n",
       "    </tr>\n",
       "  </thead>\n",
       "  <tbody>\n",
       "    <tr>\n",
       "      <th>0</th>\n",
       "      <td>SMOTE + Tomek</td>\n",
       "      <td>0.802198</td>\n",
       "      <td>0.565891</td>\n",
       "      <td>0.663636</td>\n",
       "      <td>0.998658</td>\n",
       "    </tr>\n",
       "  </tbody>\n",
       "</table>\n",
       "</div>"
      ],
      "text/plain": [
       "  Random Forest with    Recall  Precision  F1 Score  Accuracy\n",
       "0      SMOTE + Tomek  0.802198   0.565891  0.663636  0.998658"
      ]
     },
     "execution_count": 31,
     "metadata": {},
     "output_type": "execute_result"
    }
   ],
   "source": [
    "ndf = [(smote_rf_Recall, smote_rf_Precision, smote_rf_f1, smote_rf_accuracy)]\n",
    "\n",
    "SMOTETomek_rf_score = pd.DataFrame(data = ndf, columns=['Recall','Precision','F1 Score', 'Accuracy'])\n",
    "SMOTETomek_rf_score.insert(0, 'Random Forest with', 'SMOTE + Tomek')\n",
    "SMOTETomek_rf_score"
   ]
  },
  {
   "cell_type": "code",
   "execution_count": null,
   "id": "c723d604",
   "metadata": {},
   "outputs": [],
   "source": []
  },
  {
   "cell_type": "code",
   "execution_count": null,
   "id": "559ed5d0",
   "metadata": {},
   "outputs": [],
   "source": []
  },
  {
   "cell_type": "code",
   "execution_count": null,
   "id": "a7be56c7",
   "metadata": {},
   "outputs": [],
   "source": []
  },
  {
   "cell_type": "markdown",
   "id": "55263178",
   "metadata": {},
   "source": [
    "# Deep Neural Networks "
   ]
  },
  {
   "cell_type": "code",
   "execution_count": 36,
   "id": "30696403",
   "metadata": {},
   "outputs": [],
   "source": [
    "from keras import models, layers"
   ]
  },
  {
   "cell_type": "code",
   "execution_count": 37,
   "id": "1fc68a0d",
   "metadata": {},
   "outputs": [],
   "source": [
    "model = models.Sequential()\n",
    "\n",
    "model.add(layers.Dense(10, input_shape=(X_train.shape[1],), activation='relu'))\n",
    "\n",
    "model.add(layers.Dense(8, activation='relu'))\n",
    "\n",
    "model.add(layers.Dense(6, activation='relu'))\n",
    "\n",
    "model.add(layers.Dense(1, activation='sigmoid'))"
   ]
  },
  {
   "cell_type": "code",
   "execution_count": 38,
   "id": "4e8d36af",
   "metadata": {},
   "outputs": [],
   "source": [
    "from sklearn.metrics import classification_report\n",
    "\n",
    "model.compile(optimizer='rmsprop', loss='binary_crossentropy')"
   ]
  },
  {
   "cell_type": "code",
   "execution_count": 39,
   "id": "35a560d2",
   "metadata": {},
   "outputs": [
    {
     "name": "stdout",
     "output_type": "stream",
     "text": [
      "Epoch 1/100\n",
      "3446/3446 [==============================] - 18s 5ms/step - loss: 0.0157\n",
      "Epoch 2/100\n",
      "3446/3446 [==============================] - 16s 5ms/step - loss: 0.0056\n",
      "Epoch 3/100\n",
      "3446/3446 [==============================] - 15s 4ms/step - loss: 0.0053\n",
      "Epoch 4/100\n",
      "3446/3446 [==============================] - 16s 5ms/step - loss: 0.0048\n",
      "Epoch 5/100\n",
      "3446/3446 [==============================] - 16s 5ms/step - loss: 0.0047\n",
      "Epoch 6/100\n",
      "3446/3446 [==============================] - 15s 4ms/step - loss: 0.0045\n",
      "Epoch 7/100\n",
      "3446/3446 [==============================] - 14s 4ms/step - loss: 0.0046\n",
      "Epoch 8/100\n",
      "3446/3446 [==============================] - 13s 4ms/step - loss: 0.0045\n",
      "Epoch 9/100\n",
      "3446/3446 [==============================] - 16s 5ms/step - loss: 0.0044\n",
      "Epoch 10/100\n",
      "3446/3446 [==============================] - 14s 4ms/step - loss: 0.0047\n",
      "Epoch 11/100\n",
      "3446/3446 [==============================] - 15s 4ms/step - loss: 0.0046\n",
      "Epoch 12/100\n",
      "3446/3446 [==============================] - 15s 4ms/step - loss: 0.0045\n",
      "Epoch 13/100\n",
      "3446/3446 [==============================] - 15s 4ms/step - loss: 0.0045\n",
      "Epoch 14/100\n",
      "3446/3446 [==============================] - 18s 5ms/step - loss: 0.0046\n",
      "Epoch 15/100\n",
      "3446/3446 [==============================] - 16s 5ms/step - loss: 0.0043\n",
      "Epoch 16/100\n",
      "3446/3446 [==============================] - 16s 5ms/step - loss: 0.0042\n",
      "Epoch 17/100\n",
      "3446/3446 [==============================] - 16s 5ms/step - loss: 0.0043\n",
      "Epoch 18/100\n",
      "3446/3446 [==============================] - 14s 4ms/step - loss: 0.0044\n",
      "Epoch 19/100\n",
      "3446/3446 [==============================] - 16s 5ms/step - loss: 0.0045\n",
      "Epoch 20/100\n",
      "3446/3446 [==============================] - 15s 4ms/step - loss: 0.0045\n",
      "Epoch 21/100\n",
      "3446/3446 [==============================] - 15s 4ms/step - loss: 0.0045\n",
      "Epoch 22/100\n",
      "3446/3446 [==============================] - 15s 4ms/step - loss: 0.0044\n",
      "Epoch 23/100\n",
      "3446/3446 [==============================] - 15s 4ms/step - loss: 0.0045\n",
      "Epoch 24/100\n",
      "3446/3446 [==============================] - 14s 4ms/step - loss: 0.0045\n",
      "Epoch 25/100\n",
      "3446/3446 [==============================] - 15s 4ms/step - loss: 0.0043\n",
      "Epoch 26/100\n",
      "3446/3446 [==============================] - 15s 4ms/step - loss: 0.0045\n",
      "Epoch 27/100\n",
      "3446/3446 [==============================] - 15s 4ms/step - loss: 0.0045\n",
      "Epoch 28/100\n",
      "3446/3446 [==============================] - 16s 5ms/step - loss: 0.0045\n",
      "Epoch 29/100\n",
      "3446/3446 [==============================] - 15s 4ms/step - loss: 0.0047\n",
      "Epoch 30/100\n",
      "3446/3446 [==============================] - 15s 4ms/step - loss: 0.0045\n",
      "Epoch 31/100\n",
      "3446/3446 [==============================] - 15s 4ms/step - loss: 0.0045\n",
      "Epoch 32/100\n",
      "3446/3446 [==============================] - 16s 5ms/step - loss: 0.0043\n",
      "Epoch 33/100\n",
      "3446/3446 [==============================] - 16s 5ms/step - loss: 0.0043\n",
      "Epoch 34/100\n",
      "3446/3446 [==============================] - 13s 4ms/step - loss: 0.0044\n",
      "Epoch 35/100\n",
      "3446/3446 [==============================] - 13s 4ms/step - loss: 0.0047\n",
      "Epoch 36/100\n",
      "3446/3446 [==============================] - 16s 5ms/step - loss: 0.0046\n",
      "Epoch 37/100\n",
      "3446/3446 [==============================] - 16s 5ms/step - loss: 0.0044\n",
      "Epoch 38/100\n",
      "3446/3446 [==============================] - 15s 4ms/step - loss: 0.0046\n",
      "Epoch 39/100\n",
      "3446/3446 [==============================] - 16s 5ms/step - loss: 0.0044\n",
      "Epoch 40/100\n",
      "3446/3446 [==============================] - 16s 5ms/step - loss: 0.0046\n",
      "Epoch 41/100\n",
      "3446/3446 [==============================] - 15s 4ms/step - loss: 0.0044\n",
      "Epoch 42/100\n",
      "3446/3446 [==============================] - 16s 5ms/step - loss: 0.0046\n",
      "Epoch 43/100\n",
      "3446/3446 [==============================] - 13s 4ms/step - loss: 0.0044\n",
      "Epoch 44/100\n",
      "3446/3446 [==============================] - 16s 5ms/step - loss: 0.0045\n",
      "Epoch 45/100\n",
      "3446/3446 [==============================] - 19s 6ms/step - loss: 0.0045\n",
      "Epoch 46/100\n",
      "3446/3446 [==============================] - 16s 5ms/step - loss: 0.0045\n",
      "Epoch 47/100\n",
      "3446/3446 [==============================] - 19s 6ms/step - loss: 0.0044\n",
      "Epoch 48/100\n",
      "3446/3446 [==============================] - 19s 6ms/step - loss: 0.0046\n",
      "Epoch 49/100\n",
      "3446/3446 [==============================] - 19s 5ms/step - loss: 0.0045\n",
      "Epoch 50/100\n",
      "3446/3446 [==============================] - 19s 5ms/step - loss: 0.0045\n",
      "Epoch 51/100\n",
      "3446/3446 [==============================] - 18s 5ms/step - loss: 0.0047\n",
      "Epoch 52/100\n",
      "3446/3446 [==============================] - 19s 6ms/step - loss: 0.0045\n",
      "Epoch 53/100\n",
      "3446/3446 [==============================] - 19s 6ms/step - loss: 0.0047\n",
      "Epoch 54/100\n",
      "3446/3446 [==============================] - 19s 6ms/step - loss: 0.0055\n",
      "Epoch 55/100\n",
      "3446/3446 [==============================] - 19s 5ms/step - loss: 0.0046\n",
      "Epoch 56/100\n",
      "3446/3446 [==============================] - 19s 6ms/step - loss: 0.0048\n",
      "Epoch 57/100\n",
      "3446/3446 [==============================] - 19s 6ms/step - loss: 0.0047\n",
      "Epoch 58/100\n",
      "3446/3446 [==============================] - 19s 6ms/step - loss: 0.0047\n",
      "Epoch 59/100\n",
      "3446/3446 [==============================] - 19s 6ms/step - loss: 0.0047\n",
      "Epoch 60/100\n",
      "3446/3446 [==============================] - 19s 5ms/step - loss: 0.0053\n",
      "Epoch 61/100\n",
      "3446/3446 [==============================] - 19s 6ms/step - loss: 0.0048\n",
      "Epoch 62/100\n",
      "3446/3446 [==============================] - 17s 5ms/step - loss: 0.0051\n",
      "Epoch 63/100\n",
      "3446/3446 [==============================] - 19s 6ms/step - loss: 0.0049\n",
      "Epoch 64/100\n",
      "3446/3446 [==============================] - 18s 5ms/step - loss: 0.0049\n",
      "Epoch 65/100\n",
      "3446/3446 [==============================] - 19s 6ms/step - loss: 0.0053\n",
      "Epoch 66/100\n",
      "3446/3446 [==============================] - 19s 6ms/step - loss: 0.0050\n",
      "Epoch 67/100\n",
      "3446/3446 [==============================] - 19s 6ms/step - loss: 0.0054\n",
      "Epoch 68/100\n",
      "3446/3446 [==============================] - 19s 6ms/step - loss: 0.0057\n",
      "Epoch 69/100\n",
      "3446/3446 [==============================] - 19s 6ms/step - loss: 0.0052\n",
      "Epoch 70/100\n",
      "3446/3446 [==============================] - 19s 6ms/step - loss: 0.0048\n",
      "Epoch 71/100\n",
      "3446/3446 [==============================] - 19s 6ms/step - loss: 0.0054\n",
      "Epoch 72/100\n",
      "3446/3446 [==============================] - 19s 6ms/step - loss: 0.0054\n",
      "Epoch 73/100\n",
      "3446/3446 [==============================] - 19s 5ms/step - loss: 0.0055\n",
      "Epoch 74/100\n",
      "3446/3446 [==============================] - 19s 5ms/step - loss: 0.0051\n",
      "Epoch 75/100\n",
      "3446/3446 [==============================] - 19s 5ms/step - loss: 0.0053\n",
      "Epoch 76/100\n",
      "3446/3446 [==============================] - 19s 5ms/step - loss: 0.0050\n",
      "Epoch 77/100\n",
      "3446/3446 [==============================] - 19s 6ms/step - loss: 0.0051\n",
      "Epoch 78/100\n",
      "3446/3446 [==============================] - 17s 5ms/step - loss: 0.0049\n",
      "Epoch 79/100\n",
      "3446/3446 [==============================] - 19s 6ms/step - loss: 0.0049\n",
      "Epoch 80/100\n",
      "3446/3446 [==============================] - 19s 6ms/step - loss: 0.0050\n",
      "Epoch 81/100\n",
      "3446/3446 [==============================] - 19s 5ms/step - loss: 0.0049\n",
      "Epoch 82/100\n",
      "3446/3446 [==============================] - 19s 6ms/step - loss: 0.0050\n",
      "Epoch 83/100\n",
      "3446/3446 [==============================] - 19s 6ms/step - loss: 0.0050\n",
      "Epoch 84/100\n",
      "3446/3446 [==============================] - 19s 6ms/step - loss: 0.0050\n",
      "Epoch 85/100\n",
      "3446/3446 [==============================] - 19s 5ms/step - loss: 0.0050\n",
      "Epoch 86/100\n",
      "3446/3446 [==============================] - 17s 5ms/step - loss: 0.0051\n",
      "Epoch 87/100\n",
      "3446/3446 [==============================] - 19s 5ms/step - loss: 0.0051\n",
      "Epoch 88/100\n",
      "3446/3446 [==============================] - 18s 5ms/step - loss: 0.0050\n",
      "Epoch 89/100\n",
      "3446/3446 [==============================] - 18s 5ms/step - loss: 0.0053\n",
      "Epoch 90/100\n",
      "3446/3446 [==============================] - 19s 6ms/step - loss: 0.0053\n",
      "Epoch 91/100\n",
      "3446/3446 [==============================] - 19s 5ms/step - loss: 0.0055\n",
      "Epoch 92/100\n",
      "3446/3446 [==============================] - 19s 5ms/step - loss: 0.0056\n",
      "Epoch 93/100\n",
      "3446/3446 [==============================] - 18s 5ms/step - loss: 0.0055\n",
      "Epoch 94/100\n",
      "3446/3446 [==============================] - 14s 4ms/step - loss: 0.0056\n",
      "Epoch 95/100\n",
      "3446/3446 [==============================] - 19s 6ms/step - loss: 0.0060\n",
      "Epoch 96/100\n",
      "3446/3446 [==============================] - 16s 5ms/step - loss: 0.0056\n",
      "Epoch 97/100\n",
      "3446/3446 [==============================] - 16s 5ms/step - loss: 0.0056\n",
      "Epoch 98/100\n",
      "3446/3446 [==============================] - 16s 5ms/step - loss: 0.0054\n",
      "Epoch 99/100\n",
      "3446/3446 [==============================] - 16s 5ms/step - loss: 0.0056\n",
      "Epoch 100/100\n",
      "3446/3446 [==============================] - 16s 5ms/step - loss: 0.0057\n"
     ]
    }
   ],
   "source": [
    "history = model.fit(X_train, y_train, epochs=100, batch_size=64)"
   ]
  },
  {
   "cell_type": "code",
   "execution_count": 40,
   "id": "6c0c9d34",
   "metadata": {},
   "outputs": [],
   "source": [
    "y_predictions = model.predict(X_test)"
   ]
  },
  {
   "cell_type": "code",
   "execution_count": 41,
   "id": "45712cf8",
   "metadata": {},
   "outputs": [
    {
     "data": {
      "text/plain": [
       "array([[1.1201913e-06],\n",
       "       [1.0204174e-12],\n",
       "       [1.3235230e-21],\n",
       "       ...,\n",
       "       [5.4296137e-11],\n",
       "       [5.4819673e-05],\n",
       "       [6.9798654e-07]], dtype=float32)"
      ]
     },
     "execution_count": 41,
     "metadata": {},
     "output_type": "execute_result"
    }
   ],
   "source": [
    "y_predictions"
   ]
  },
  {
   "cell_type": "code",
   "execution_count": 42,
   "id": "2a897086",
   "metadata": {},
   "outputs": [],
   "source": [
    "preds = np.around(y_predictions)"
   ]
  },
  {
   "cell_type": "code",
   "execution_count": 43,
   "id": "abf89bbc",
   "metadata": {},
   "outputs": [
    {
     "data": {
      "text/plain": [
       "array([[0.],\n",
       "       [0.],\n",
       "       [0.],\n",
       "       ...,\n",
       "       [0.],\n",
       "       [0.],\n",
       "       [0.]], dtype=float32)"
      ]
     },
     "execution_count": 43,
     "metadata": {},
     "output_type": "execute_result"
    }
   ],
   "source": [
    "preds\n"
   ]
  },
  {
   "cell_type": "code",
   "execution_count": 44,
   "id": "271b1679",
   "metadata": {},
   "outputs": [
    {
     "name": "stdout",
     "output_type": "stream",
     "text": [
      "              precision    recall  f1-score   support\n",
      "\n",
      "           0       1.00      1.00      1.00     55042\n",
      "           1       0.76      0.77      0.77        91\n",
      "\n",
      "    accuracy                           1.00     55133\n",
      "   macro avg       0.88      0.88      0.88     55133\n",
      "weighted avg       1.00      1.00      1.00     55133\n",
      "\n"
     ]
    }
   ],
   "source": [
    "print(classification_report(y_test, preds))"
   ]
  },
  {
   "cell_type": "code",
   "execution_count": null,
   "id": "5bc52000",
   "metadata": {},
   "outputs": [],
   "source": []
  },
  {
   "cell_type": "code",
   "execution_count": 45,
   "id": "4e5daaff",
   "metadata": {},
   "outputs": [
    {
     "data": {
      "text/plain": [
       "0.8844155372261183"
      ]
     },
     "execution_count": 45,
     "metadata": {},
     "output_type": "execute_result"
    }
   ],
   "source": [
    "from sklearn.metrics import roc_auc_score\n",
    "roc_auc_score(y_test, preds)"
   ]
  },
  {
   "cell_type": "markdown",
   "id": "f440b17c",
   "metadata": {},
   "source": [
    "# Imbalanced Data Handling with Deep Neural Network"
   ]
  },
  {
   "cell_type": "code",
   "execution_count": 52,
   "id": "3466d478",
   "metadata": {},
   "outputs": [
    {
     "data": {
      "text/plain": [
       "0    220152\n",
       "1       378\n",
       "Name: Class, dtype: int64"
      ]
     },
     "execution_count": 52,
     "metadata": {},
     "output_type": "execute_result"
    }
   ],
   "source": [
    "y_train.value_counts()"
   ]
  },
  {
   "cell_type": "code",
   "execution_count": 53,
   "id": "0a27298d",
   "metadata": {},
   "outputs": [
    {
     "data": {
      "text/plain": [
       "0    55038\n",
       "1       95\n",
       "Name: Class, dtype: int64"
      ]
     },
     "execution_count": 53,
     "metadata": {},
     "output_type": "execute_result"
    }
   ],
   "source": [
    "y_test.value_counts()"
   ]
  },
  {
   "cell_type": "code",
   "execution_count": null,
   "id": "8b1682e1",
   "metadata": {},
   "outputs": [],
   "source": []
  },
  {
   "cell_type": "markdown",
   "id": "7c2c46a0",
   "metadata": {},
   "source": [
    "There are 378 1's (frauds) and 220152 0's (non-frauds)\n",
    "\n",
    "220152/378 = 582\n",
    "\n",
    "0's are 582 times more than 1's\n",
    "\n",
    "we can assign custom weights to NN accordingly"
   ]
  },
  {
   "cell_type": "code",
   "execution_count": 54,
   "id": "9a942812",
   "metadata": {},
   "outputs": [],
   "source": [
    "weights = {\n",
    "    0:1,\n",
    "    1:582\n",
    "}"
   ]
  },
  {
   "cell_type": "code",
   "execution_count": 55,
   "id": "0a45463b",
   "metadata": {},
   "outputs": [
    {
     "name": "stdout",
     "output_type": "stream",
     "text": [
      "Epoch 1/100\n",
      "6892/6892 [==============================] - 16s 2ms/step - loss: 11.1769\n",
      "Epoch 2/100\n",
      "6892/6892 [==============================] - 14s 2ms/step - loss: 13.3675\n",
      "Epoch 3/100\n",
      "6892/6892 [==============================] - 11s 2ms/step - loss: 5.9506\n",
      "Epoch 4/100\n",
      "6892/6892 [==============================] - 10s 2ms/step - loss: 5.2554\n",
      "Epoch 5/100\n",
      "6892/6892 [==============================] - 11s 2ms/step - loss: 7.0719\n",
      "Epoch 6/100\n",
      "6892/6892 [==============================] - 15s 2ms/step - loss: 6.3254\n",
      "Epoch 7/100\n",
      "6892/6892 [==============================] - 14s 2ms/step - loss: 5.3422\n",
      "Epoch 8/100\n",
      "6892/6892 [==============================] - 13s 2ms/step - loss: 7.5327\n",
      "Epoch 9/100\n",
      "6892/6892 [==============================] - 13s 2ms/step - loss: 7.2442\n",
      "Epoch 10/100\n",
      "6892/6892 [==============================] - 12s 2ms/step - loss: 7.0070\n",
      "Epoch 11/100\n",
      "6892/6892 [==============================] - 12s 2ms/step - loss: 7.4238\n",
      "Epoch 12/100\n",
      "6892/6892 [==============================] - 14s 2ms/step - loss: 6.3735\n",
      "Epoch 13/100\n",
      "6892/6892 [==============================] - 13s 2ms/step - loss: 5.6591\n",
      "Epoch 14/100\n",
      "6892/6892 [==============================] - 12s 2ms/step - loss: 4.3153\n",
      "Epoch 15/100\n",
      "6892/6892 [==============================] - 13s 2ms/step - loss: 7.0543\n",
      "Epoch 16/100\n",
      "6892/6892 [==============================] - 12s 2ms/step - loss: 4.2120\n",
      "Epoch 17/100\n",
      "6892/6892 [==============================] - 12s 2ms/step - loss: 3.7060\n",
      "Epoch 18/100\n",
      "6892/6892 [==============================] - 12s 2ms/step - loss: 6.3386\n",
      "Epoch 19/100\n",
      "6892/6892 [==============================] - 12s 2ms/step - loss: 6.6821\n",
      "Epoch 20/100\n",
      "6892/6892 [==============================] - 12s 2ms/step - loss: 6.0539\n",
      "Epoch 21/100\n",
      "6892/6892 [==============================] - 15s 2ms/step - loss: 5.8433\n",
      "Epoch 22/100\n",
      "6892/6892 [==============================] - 13s 2ms/step - loss: 6.2917\n",
      "Epoch 23/100\n",
      "6892/6892 [==============================] - 12s 2ms/step - loss: 6.2204\n",
      "Epoch 24/100\n",
      "6892/6892 [==============================] - 16s 2ms/step - loss: 6.7518\n",
      "Epoch 25/100\n",
      "6892/6892 [==============================] - 14s 2ms/step - loss: 3.9887\n",
      "Epoch 26/100\n",
      "6892/6892 [==============================] - 13s 2ms/step - loss: 3.1694\n",
      "Epoch 27/100\n",
      "6892/6892 [==============================] - 12s 2ms/step - loss: 4.5842\n",
      "Epoch 28/100\n",
      "6892/6892 [==============================] - 13s 2ms/step - loss: 3.8411\n",
      "Epoch 29/100\n",
      "6892/6892 [==============================] - 13s 2ms/step - loss: 5.8196\n",
      "Epoch 30/100\n",
      "6892/6892 [==============================] - 13s 2ms/step - loss: 5.0510\n",
      "Epoch 31/100\n",
      "6892/6892 [==============================] - 14s 2ms/step - loss: 6.1659\n",
      "Epoch 32/100\n",
      "6892/6892 [==============================] - 14s 2ms/step - loss: 4.6957\n",
      "Epoch 33/100\n",
      "6892/6892 [==============================] - 13s 2ms/step - loss: 3.3414\n",
      "Epoch 34/100\n",
      "6892/6892 [==============================] - 12s 2ms/step - loss: 4.0982\n",
      "Epoch 35/100\n",
      "6892/6892 [==============================] - 16s 2ms/step - loss: 3.9923\n",
      "Epoch 36/100\n",
      "6892/6892 [==============================] - 13s 2ms/step - loss: 3.0826\n",
      "Epoch 37/100\n",
      "6892/6892 [==============================] - 13s 2ms/step - loss: 3.0802\n",
      "Epoch 38/100\n",
      "6892/6892 [==============================] - 13s 2ms/step - loss: 3.6637\n",
      "Epoch 39/100\n",
      "6892/6892 [==============================] - 13s 2ms/step - loss: 4.6428\n",
      "Epoch 40/100\n",
      "6892/6892 [==============================] - 11s 2ms/step - loss: 3.8999\n",
      "Epoch 41/100\n",
      "6892/6892 [==============================] - 13s 2ms/step - loss: 2.4180\n",
      "Epoch 42/100\n",
      "6892/6892 [==============================] - 14s 2ms/step - loss: 3.9758\n",
      "Epoch 43/100\n",
      "6892/6892 [==============================] - 13s 2ms/step - loss: 3.5198\n",
      "Epoch 44/100\n",
      "6892/6892 [==============================] - 13s 2ms/step - loss: 4.7638\n",
      "Epoch 45/100\n",
      "6892/6892 [==============================] - 15s 2ms/step - loss: 4.7558\n",
      "Epoch 46/100\n",
      "6892/6892 [==============================] - 13s 2ms/step - loss: 3.4411\n",
      "Epoch 47/100\n",
      "6892/6892 [==============================] - 13s 2ms/step - loss: 3.0483\n",
      "Epoch 48/100\n",
      "6892/6892 [==============================] - 13s 2ms/step - loss: 3.2814\n",
      "Epoch 49/100\n",
      "6892/6892 [==============================] - 14s 2ms/step - loss: 2.4174\n",
      "Epoch 50/100\n",
      "6892/6892 [==============================] - 13s 2ms/step - loss: 3.1571\n",
      "Epoch 51/100\n",
      "6892/6892 [==============================] - 13s 2ms/step - loss: 2.9725\n",
      "Epoch 52/100\n",
      "6892/6892 [==============================] - 14s 2ms/step - loss: 1.9805\n",
      "Epoch 53/100\n",
      "6892/6892 [==============================] - 14s 2ms/step - loss: 2.3685\n",
      "Epoch 54/100\n",
      "6892/6892 [==============================] - 13s 2ms/step - loss: 2.6773\n",
      "Epoch 55/100\n",
      "6892/6892 [==============================] - 13s 2ms/step - loss: 2.2997\n",
      "Epoch 56/100\n",
      "6892/6892 [==============================] - 11s 2ms/step - loss: 3.2847\n",
      "Epoch 57/100\n",
      "6892/6892 [==============================] - 13s 2ms/step - loss: 2.3507\n",
      "Epoch 58/100\n",
      "6892/6892 [==============================] - 12s 2ms/step - loss: 3.1838\n",
      "Epoch 59/100\n",
      "6892/6892 [==============================] - 12s 2ms/step - loss: 3.2189\n",
      "Epoch 60/100\n",
      "6892/6892 [==============================] - 13s 2ms/step - loss: 3.3545\n",
      "Epoch 61/100\n",
      "6892/6892 [==============================] - 13s 2ms/step - loss: 3.3338\n",
      "Epoch 62/100\n",
      "6892/6892 [==============================] - 13s 2ms/step - loss: 2.6994\n",
      "Epoch 63/100\n",
      "6892/6892 [==============================] - 15s 2ms/step - loss: 4.3721\n",
      "Epoch 64/100\n",
      "6892/6892 [==============================] - 13s 2ms/step - loss: 2.5719\n",
      "Epoch 65/100\n",
      "6892/6892 [==============================] - 13s 2ms/step - loss: 2.3416\n",
      "Epoch 66/100\n",
      "6892/6892 [==============================] - 14s 2ms/step - loss: 3.6128\n",
      "Epoch 67/100\n",
      "6892/6892 [==============================] - 13s 2ms/step - loss: 2.8705\n",
      "Epoch 68/100\n",
      "6892/6892 [==============================] - 13s 2ms/step - loss: 2.5297\n",
      "Epoch 69/100\n",
      "6892/6892 [==============================] - 12s 2ms/step - loss: 2.9059\n",
      "Epoch 70/100\n",
      "6892/6892 [==============================] - 13s 2ms/step - loss: 2.8090\n",
      "Epoch 71/100\n",
      "6892/6892 [==============================] - 13s 2ms/step - loss: 2.2157\n",
      "Epoch 72/100\n",
      "6892/6892 [==============================] - 13s 2ms/step - loss: 2.2729\n",
      "Epoch 73/100\n",
      "6892/6892 [==============================] - 13s 2ms/step - loss: 2.0804\n",
      "Epoch 74/100\n",
      "6892/6892 [==============================] - 11s 2ms/step - loss: 2.5217\n",
      "Epoch 75/100\n",
      "6892/6892 [==============================] - 13s 2ms/step - loss: 2.7577\n",
      "Epoch 76/100\n",
      "6892/6892 [==============================] - 13s 2ms/step - loss: 2.4265\n",
      "Epoch 77/100\n",
      "6892/6892 [==============================] - 13s 2ms/step - loss: 2.5241\n",
      "Epoch 78/100\n",
      "6892/6892 [==============================] - 13s 2ms/step - loss: 2.6073\n",
      "Epoch 79/100\n",
      "6892/6892 [==============================] - 13s 2ms/step - loss: 1.8851\n",
      "Epoch 80/100\n",
      "6892/6892 [==============================] - 11s 2ms/step - loss: 1.8184\n",
      "Epoch 81/100\n",
      "6892/6892 [==============================] - 13s 2ms/step - loss: 2.7532\n",
      "Epoch 82/100\n",
      "6892/6892 [==============================] - 13s 2ms/step - loss: 2.9659\n",
      "Epoch 83/100\n",
      "6892/6892 [==============================] - 13s 2ms/step - loss: 1.9662\n",
      "Epoch 84/100\n",
      "6892/6892 [==============================] - 13s 2ms/step - loss: 2.8001\n",
      "Epoch 85/100\n",
      "6892/6892 [==============================] - 12s 2ms/step - loss: 2.3350\n",
      "Epoch 86/100\n",
      "6892/6892 [==============================] - 13s 2ms/step - loss: 2.2708\n",
      "Epoch 87/100\n",
      "6892/6892 [==============================] - 13s 2ms/step - loss: 3.4922\n",
      "Epoch 88/100\n",
      "6892/6892 [==============================] - 13s 2ms/step - loss: 3.1245\n",
      "Epoch 89/100\n",
      "6892/6892 [==============================] - 13s 2ms/step - loss: 3.1695\n",
      "Epoch 90/100\n",
      "6892/6892 [==============================] - 12s 2ms/step - loss: 2.3912\n",
      "Epoch 91/100\n",
      "6892/6892 [==============================] - 12s 2ms/step - loss: 3.1930\n",
      "Epoch 92/100\n",
      "6892/6892 [==============================] - 13s 2ms/step - loss: 3.9191\n",
      "Epoch 93/100\n",
      "6892/6892 [==============================] - 14s 2ms/step - loss: 2.4473\n",
      "Epoch 94/100\n",
      "6892/6892 [==============================] - 13s 2ms/step - loss: 3.4826\n",
      "Epoch 95/100\n",
      "6892/6892 [==============================] - 13s 2ms/step - loss: 2.5955\n",
      "Epoch 96/100\n",
      "6892/6892 [==============================] - 13s 2ms/step - loss: 3.0055\n",
      "Epoch 97/100\n",
      "6892/6892 [==============================] - 13s 2ms/step - loss: 2.8184\n",
      "Epoch 98/100\n",
      "6892/6892 [==============================] - 11s 2ms/step - loss: 2.5066\n",
      "Epoch 99/100\n",
      "6892/6892 [==============================] - 13s 2ms/step - loss: 2.8124\n",
      "Epoch 100/100\n",
      "6892/6892 [==============================] - 12s 2ms/step - loss: 2.5235\n"
     ]
    }
   ],
   "source": [
    "model = models.Sequential()\n",
    "\n",
    "model.add(layers.Dense(10, input_shape=(X_train.shape[1],), activation='relu'))\n",
    "\n",
    "model.add(layers.Dense(8, activation='relu'))\n",
    "\n",
    "model.add(layers.Dense(6, activation='relu'))\n",
    "\n",
    "model.add(layers.Dense(1, activation='sigmoid'))\n",
    "\n",
    "model.compile(optimizer='rmsprop', loss='binary_crossentropy')\n",
    "\n",
    "# CHANGE\n",
    "history = model.fit(X_train, y_train, epochs=100, class_weight=weights)"
   ]
  },
  {
   "cell_type": "code",
   "execution_count": 57,
   "id": "00f03480",
   "metadata": {},
   "outputs": [],
   "source": [
    "predictions = model.predict(X_test)"
   ]
  },
  {
   "cell_type": "code",
   "execution_count": 58,
   "id": "a4dc2df2",
   "metadata": {},
   "outputs": [
    {
     "data": {
      "text/plain": [
       "0.9040717322577128"
      ]
     },
     "execution_count": 58,
     "metadata": {},
     "output_type": "execute_result"
    }
   ],
   "source": [
    "from sklearn.metrics import roc_auc_score\n",
    "\n",
    "roc_auc_score(y_test, predictions)"
   ]
  },
  {
   "cell_type": "code",
   "execution_count": 60,
   "id": "04025792",
   "metadata": {},
   "outputs": [],
   "source": [
    "preds = np.around(y_predictions)"
   ]
  },
  {
   "cell_type": "code",
   "execution_count": 63,
   "id": "8e8f216b",
   "metadata": {},
   "outputs": [
    {
     "name": "stdout",
     "output_type": "stream",
     "text": [
      "              precision    recall  f1-score   support\n",
      "\n",
      "           0       1.00      1.00      1.00     55038\n",
      "           1       0.00      0.00      0.00        95\n",
      "\n",
      "    accuracy                           1.00     55133\n",
      "   macro avg       0.50      0.50      0.50     55133\n",
      "weighted avg       1.00      1.00      1.00     55133\n",
      "\n"
     ]
    }
   ],
   "source": [
    "print(classification_report(y_test, preds))"
   ]
  },
  {
   "cell_type": "code",
   "execution_count": 64,
   "id": "46903d1e",
   "metadata": {},
   "outputs": [
    {
     "name": "stdout",
     "output_type": "stream",
     "text": [
      "[[54946    92]\n",
      " [   95     0]]\n"
     ]
    }
   ],
   "source": [
    "cm = confusion_matrix(y_test, preds)\n",
    "print(cm)\n"
   ]
  },
  {
   "cell_type": "code",
   "execution_count": null,
   "id": "4b763fda",
   "metadata": {},
   "outputs": [],
   "source": []
  },
  {
   "cell_type": "markdown",
   "id": "1ebcdbdc",
   "metadata": {},
   "source": [
    "# LSTM-Attention model"
   ]
  },
  {
   "cell_type": "code",
   "execution_count": 65,
   "id": "eeaa710f",
   "metadata": {},
   "outputs": [],
   "source": [
    "import pandas as pd\n",
    "import sklearn.metrics as metrique\n",
    "from pandas import Series\n",
    "from sklearn.preprocessing import StandardScaler, MinMaxScaler\n",
    "from matplotlib import pyplot\n",
    "from sklearn.model_selection import train_test_split\n",
    "import numpy as np\n",
    "from keras.callbacks import EarlyStopping\n",
    "from keras.utils import np_utils\n",
    "from keras.callbacks import ModelCheckpoint\n",
    "from sklearn.metrics import accuracy_score\n",
    "from sklearn.metrics import classification_report, confusion_matrix\n",
    "from keras.models import Sequential\n",
    "from keras.utils import np_utils\n",
    "from keras.layers import LSTM, Dense, Embedding, Dropout,Input, Attention, Layer, Concatenate, Permute, Dot, Multiply, Flatten\n",
    "from keras.layers import RepeatVector, Dense, Activation, Lambda\n",
    "from keras.models import Sequential\n",
    "from keras import backend as K, regularizers, Model, metrics\n",
    "from keras.backend import cast"
   ]
  },
  {
   "cell_type": "code",
   "execution_count": 66,
   "id": "277c1f94",
   "metadata": {},
   "outputs": [],
   "source": [
    "datanew = pd.read_csv('creditcard.csv', na_filter=True)\n",
    "col_del = ['Time' ,'V5', 'V6', 'V7', 'V8', 'V9','V13','V15', 'V16',  'V18', 'V19', 'V20','V21', 'V22', 'V23', 'V24', 'V25', 'V26', 'V27', 'V28', 'Amount']"
   ]
  },
  {
   "cell_type": "code",
   "execution_count": 68,
   "id": "d81df134",
   "metadata": {},
   "outputs": [
    {
     "data": {
      "text/plain": [
       "(284807, 10)"
      ]
     },
     "execution_count": 68,
     "metadata": {},
     "output_type": "execute_result"
    }
   ],
   "source": [
    "tr_data = datanew.drop(col_del,axis =1)\n",
    "tr_data.shape"
   ]
  },
  {
   "cell_type": "code",
   "execution_count": 69,
   "id": "08ada578",
   "metadata": {},
   "outputs": [],
   "source": [
    "X = tr_data.drop(['Class'], axis = 'columns')\n",
    "Label_Data = tr_data['Class']"
   ]
  },
  {
   "cell_type": "code",
   "execution_count": 70,
   "id": "11e54cba",
   "metadata": {},
   "outputs": [
    {
     "name": "stdout",
     "output_type": "stream",
     "text": [
      "Counter({0: 284315, 1: 492})\n"
     ]
    }
   ],
   "source": [
    "# Generate and plot imbalanced classification dataset\n",
    "from collections import Counter\n",
    "from matplotlib import pyplot\n",
    "from numpy import where\n",
    "# summarize class distribution\n",
    "counter = Counter(tr_data['Class'])\n",
    "print(counter)\n",
    "# scatter plot of examples by class label\n",
    "for label, _ in counter.items():\n",
    "\trow_ix = where(tr_data['Class'] == label)[0]"
   ]
  },
  {
   "cell_type": "code",
   "execution_count": 71,
   "id": "2d6aa3a1",
   "metadata": {},
   "outputs": [
    {
     "name": "stdout",
     "output_type": "stream",
     "text": [
      "Counter({0: 284315, 1: 284315})\n"
     ]
    }
   ],
   "source": [
    "# transform the dataset\n",
    "from imblearn.over_sampling import SMOTE\n",
    "oversample = SMOTE()\n",
    "X_r, y = oversample.fit_resample(X, tr_data['Class'])\n",
    "# summarize the new class distribution\n",
    "counter = Counter(y)\n",
    "print(counter)\n",
    "# scatter plot of examples by class label\n",
    "for label, _ in counter.items():\n",
    "\trow_ix = where(y == label)[0]"
   ]
  },
  {
   "cell_type": "code",
   "execution_count": 72,
   "id": "00cf1079",
   "metadata": {},
   "outputs": [],
   "source": [
    "from sklearn.preprocessing import StandardScaler\n",
    "## Standardizing the data\n",
    "X_r2 = StandardScaler().fit_transform(X_r)"
   ]
  },
  {
   "cell_type": "code",
   "execution_count": 75,
   "id": "74791c25",
   "metadata": {},
   "outputs": [],
   "source": [
    "X_train,X_test,y_train,y_test = train_test_split(X_r2, y, test_size=0.3,stratify=y)"
   ]
  },
  {
   "cell_type": "code",
   "execution_count": 76,
   "id": "b56ec9c7",
   "metadata": {},
   "outputs": [
    {
     "data": {
      "text/plain": [
       "(398041, 9)"
      ]
     },
     "execution_count": 76,
     "metadata": {},
     "output_type": "execute_result"
    }
   ],
   "source": [
    "X_train.shape"
   ]
  },
  {
   "cell_type": "code",
   "execution_count": 77,
   "id": "3a32e693",
   "metadata": {},
   "outputs": [
    {
     "data": {
      "text/plain": [
       "(170589, 9)"
      ]
     },
     "execution_count": 77,
     "metadata": {},
     "output_type": "execute_result"
    }
   ],
   "source": [
    "X_test.shape"
   ]
  },
  {
   "cell_type": "code",
   "execution_count": 78,
   "id": "fa643657",
   "metadata": {},
   "outputs": [],
   "source": [
    "# design network\n",
    "np.random.seed(7)\n",
    "\n",
    "# X_train et X_val sont des dataframe qui contient les features\n",
    "train_LSTM_X=X_train\n",
    "val_LSTM_X=X_test\n",
    "\n",
    "## Reshape input to be 3D [samples, timesteps, features] (format requis par LSTM)\n",
    "train_LSTM_X = train_LSTM_X.reshape((train_LSTM_X.shape[0], 1, train_LSTM_X.shape[1]))\n",
    "val_LSTM_X = val_LSTM_X.reshape((val_LSTM_X.shape[0], 1, val_LSTM_X.shape[1]))\n",
    "\n",
    "## Recuperation des labels\n",
    "train_LSTM_y=y_train\n",
    "val_LSTM_y=y_test"
   ]
  },
  {
   "cell_type": "code",
   "execution_count": 90,
   "id": "0aa127ab",
   "metadata": {},
   "outputs": [],
   "source": [
    "inputs=Input((1,9))\n",
    "x1=LSTM(50,dropout=0.3,recurrent_dropout=0.2,return_sequences=True)(inputs)\n",
    "x2=LSTM(50,dropout=0.3,recurrent_dropout=0.2,return_sequences=True)(x1)\n",
    "outputs=Dense(1,activation='sigmoid')(x2)\n",
    "model=Model(inputs,outputs)"
   ]
  },
  {
   "cell_type": "code",
   "execution_count": 91,
   "id": "df22b464",
   "metadata": {},
   "outputs": [],
   "source": [
    "model.compile(loss='binary_crossentropy', optimizer='adam', metrics=['accuracy'])"
   ]
  },
  {
   "cell_type": "code",
   "execution_count": 92,
   "id": "d18bd7dd",
   "metadata": {},
   "outputs": [
    {
     "name": "stdout",
     "output_type": "stream",
     "text": [
      "Epoch 1/100\n",
      "20/20 [==============================] - 10s 308ms/step - loss: 0.6761 - accuracy: 0.7490 - val_loss: 0.6415 - val_accuracy: 0.8864\n",
      "Epoch 2/100\n",
      "20/20 [==============================] - 5s 272ms/step - loss: 0.5970 - accuracy: 0.8811 - val_loss: 0.5248 - val_accuracy: 0.8895\n",
      "Epoch 3/100\n",
      "20/20 [==============================] - 6s 287ms/step - loss: 0.4735 - accuracy: 0.8833 - val_loss: 0.4041 - val_accuracy: 0.8921\n",
      "Epoch 4/100\n",
      "20/20 [==============================] - 6s 299ms/step - loss: 0.3696 - accuracy: 0.8898 - val_loss: 0.3165 - val_accuracy: 0.9026\n",
      "Epoch 5/100\n",
      "20/20 [==============================] - 5s 268ms/step - loss: 0.3010 - accuracy: 0.9011 - val_loss: 0.2658 - val_accuracy: 0.9087\n",
      "Epoch 6/100\n",
      "20/20 [==============================] - 6s 294ms/step - loss: 0.2644 - accuracy: 0.9087 - val_loss: 0.2369 - val_accuracy: 0.9107\n",
      "Epoch 7/100\n",
      "20/20 [==============================] - 6s 294ms/step - loss: 0.2433 - accuracy: 0.9136 - val_loss: 0.2168 - val_accuracy: 0.9158\n",
      "Epoch 8/100\n",
      "20/20 [==============================] - 5s 275ms/step - loss: 0.2305 - accuracy: 0.9169 - val_loss: 0.2039 - val_accuracy: 0.9251\n",
      "Epoch 9/100\n",
      "20/20 [==============================] - 6s 284ms/step - loss: 0.2239 - accuracy: 0.9187 - val_loss: 0.1962 - val_accuracy: 0.9267\n",
      "Epoch 10/100\n",
      "20/20 [==============================] - 6s 312ms/step - loss: 0.2193 - accuracy: 0.9193 - val_loss: 0.1913 - val_accuracy: 0.9282\n",
      "Epoch 11/100\n",
      "20/20 [==============================] - 5s 275ms/step - loss: 0.2164 - accuracy: 0.9199 - val_loss: 0.1884 - val_accuracy: 0.9289\n",
      "Epoch 12/100\n",
      "20/20 [==============================] - 6s 296ms/step - loss: 0.2123 - accuracy: 0.9208 - val_loss: 0.1862 - val_accuracy: 0.9297\n",
      "Epoch 13/100\n",
      "20/20 [==============================] - 6s 295ms/step - loss: 0.2101 - accuracy: 0.9215 - val_loss: 0.1843 - val_accuracy: 0.9302\n",
      "Epoch 14/100\n",
      "20/20 [==============================] - 6s 303ms/step - loss: 0.2081 - accuracy: 0.9225 - val_loss: 0.1826 - val_accuracy: 0.9310\n",
      "Epoch 15/100\n",
      "20/20 [==============================] - 7s 347ms/step - loss: 0.2057 - accuracy: 0.9230 - val_loss: 0.1810 - val_accuracy: 0.9318\n",
      "Epoch 16/100\n",
      "20/20 [==============================] - 6s 305ms/step - loss: 0.2035 - accuracy: 0.9239 - val_loss: 0.1792 - val_accuracy: 0.9329\n",
      "Epoch 17/100\n",
      "20/20 [==============================] - 6s 304ms/step - loss: 0.2020 - accuracy: 0.9247 - val_loss: 0.1785 - val_accuracy: 0.9331\n",
      "Epoch 18/100\n",
      "20/20 [==============================] - 6s 298ms/step - loss: 0.1999 - accuracy: 0.9255 - val_loss: 0.1766 - val_accuracy: 0.9338\n",
      "Epoch 19/100\n",
      "20/20 [==============================] - 6s 293ms/step - loss: 0.1979 - accuracy: 0.9264 - val_loss: 0.1754 - val_accuracy: 0.9341\n",
      "Epoch 20/100\n",
      "20/20 [==============================] - 6s 301ms/step - loss: 0.1970 - accuracy: 0.9268 - val_loss: 0.1746 - val_accuracy: 0.9343\n",
      "Epoch 21/100\n",
      "20/20 [==============================] - 6s 289ms/step - loss: 0.1956 - accuracy: 0.9270 - val_loss: 0.1737 - val_accuracy: 0.9345\n",
      "Epoch 22/100\n",
      "20/20 [==============================] - 6s 317ms/step - loss: 0.1942 - accuracy: 0.9282 - val_loss: 0.1730 - val_accuracy: 0.9346\n",
      "Epoch 23/100\n",
      "20/20 [==============================] - 6s 306ms/step - loss: 0.1931 - accuracy: 0.9281 - val_loss: 0.1722 - val_accuracy: 0.9348\n",
      "Epoch 24/100\n",
      "20/20 [==============================] - 6s 306ms/step - loss: 0.1916 - accuracy: 0.9287 - val_loss: 0.1715 - val_accuracy: 0.9350\n",
      "Epoch 25/100\n",
      "20/20 [==============================] - 6s 305ms/step - loss: 0.1912 - accuracy: 0.9290 - val_loss: 0.1708 - val_accuracy: 0.9351\n",
      "Epoch 26/100\n",
      "20/20 [==============================] - 6s 318ms/step - loss: 0.1906 - accuracy: 0.9292 - val_loss: 0.1704 - val_accuracy: 0.9351\n",
      "Epoch 27/100\n",
      "20/20 [==============================] - 6s 307ms/step - loss: 0.1904 - accuracy: 0.9298 - val_loss: 0.1702 - val_accuracy: 0.9351\n",
      "Epoch 28/100\n",
      "20/20 [==============================] - 6s 295ms/step - loss: 0.1891 - accuracy: 0.9300 - val_loss: 0.1701 - val_accuracy: 0.9352\n",
      "Epoch 29/100\n",
      "20/20 [==============================] - 6s 292ms/step - loss: 0.1892 - accuracy: 0.9299 - val_loss: 0.1700 - val_accuracy: 0.9352\n",
      "Epoch 30/100\n",
      "20/20 [==============================] - 6s 316ms/step - loss: 0.1886 - accuracy: 0.9301 - val_loss: 0.1693 - val_accuracy: 0.9353\n",
      "Epoch 31/100\n",
      "20/20 [==============================] - 6s 316ms/step - loss: 0.1883 - accuracy: 0.9303 - val_loss: 0.1691 - val_accuracy: 0.9353\n",
      "Epoch 32/100\n",
      "20/20 [==============================] - 7s 376ms/step - loss: 0.1880 - accuracy: 0.9302 - val_loss: 0.1688 - val_accuracy: 0.9354\n",
      "Epoch 33/100\n",
      "20/20 [==============================] - 7s 353ms/step - loss: 0.1875 - accuracy: 0.9306 - val_loss: 0.1686 - val_accuracy: 0.9354\n",
      "Epoch 34/100\n",
      "20/20 [==============================] - 7s 331ms/step - loss: 0.1865 - accuracy: 0.9307 - val_loss: 0.1688 - val_accuracy: 0.9354\n",
      "Epoch 35/100\n",
      "20/20 [==============================] - 7s 330ms/step - loss: 0.1863 - accuracy: 0.9309 - val_loss: 0.1681 - val_accuracy: 0.9355\n",
      "Epoch 36/100\n",
      "20/20 [==============================] - 7s 333ms/step - loss: 0.1860 - accuracy: 0.9310 - val_loss: 0.1684 - val_accuracy: 0.9355\n",
      "Epoch 37/100\n",
      "20/20 [==============================] - 6s 326ms/step - loss: 0.1853 - accuracy: 0.9312 - val_loss: 0.1680 - val_accuracy: 0.9355\n",
      "Epoch 38/100\n",
      "20/20 [==============================] - 7s 331ms/step - loss: 0.1858 - accuracy: 0.9309 - val_loss: 0.1680 - val_accuracy: 0.9355\n",
      "Epoch 39/100\n",
      "20/20 [==============================] - 7s 330ms/step - loss: 0.1856 - accuracy: 0.9311 - val_loss: 0.1679 - val_accuracy: 0.9355\n",
      "Epoch 40/100\n",
      "20/20 [==============================] - 7s 327ms/step - loss: 0.1849 - accuracy: 0.9312 - val_loss: 0.1675 - val_accuracy: 0.9356\n",
      "Epoch 41/100\n",
      "20/20 [==============================] - 7s 334ms/step - loss: 0.1850 - accuracy: 0.9313 - val_loss: 0.1675 - val_accuracy: 0.9355\n",
      "Epoch 42/100\n",
      "20/20 [==============================] - 7s 332ms/step - loss: 0.1843 - accuracy: 0.9316 - val_loss: 0.1674 - val_accuracy: 0.9355\n",
      "Epoch 43/100\n",
      "20/20 [==============================] - 7s 330ms/step - loss: 0.1839 - accuracy: 0.9318 - val_loss: 0.1669 - val_accuracy: 0.9356\n",
      "Epoch 44/100\n",
      "20/20 [==============================] - 7s 336ms/step - loss: 0.1843 - accuracy: 0.9314 - val_loss: 0.1669 - val_accuracy: 0.9355\n",
      "Epoch 45/100\n",
      "20/20 [==============================] - 7s 339ms/step - loss: 0.1835 - accuracy: 0.9314 - val_loss: 0.1668 - val_accuracy: 0.9355\n",
      "Epoch 46/100\n",
      "20/20 [==============================] - 7s 335ms/step - loss: 0.1837 - accuracy: 0.9315 - val_loss: 0.1668 - val_accuracy: 0.9355\n",
      "Epoch 47/100\n",
      "20/20 [==============================] - 7s 353ms/step - loss: 0.1834 - accuracy: 0.9314 - val_loss: 0.1670 - val_accuracy: 0.9355\n",
      "Epoch 48/100\n",
      "20/20 [==============================] - 7s 353ms/step - loss: 0.1833 - accuracy: 0.9317 - val_loss: 0.1661 - val_accuracy: 0.9357\n",
      "Epoch 49/100\n",
      "20/20 [==============================] - 7s 347ms/step - loss: 0.1829 - accuracy: 0.9318 - val_loss: 0.1660 - val_accuracy: 0.9357\n",
      "Epoch 50/100\n",
      "20/20 [==============================] - 7s 367ms/step - loss: 0.1827 - accuracy: 0.9318 - val_loss: 0.1660 - val_accuracy: 0.9356\n",
      "Epoch 51/100\n",
      "20/20 [==============================] - 7s 330ms/step - loss: 0.1831 - accuracy: 0.9316 - val_loss: 0.1657 - val_accuracy: 0.9357\n",
      "Epoch 52/100\n",
      "20/20 [==============================] - 7s 341ms/step - loss: 0.1823 - accuracy: 0.9318 - val_loss: 0.1659 - val_accuracy: 0.9356\n",
      "Epoch 53/100\n",
      "20/20 [==============================] - 8s 386ms/step - loss: 0.1825 - accuracy: 0.9318 - val_loss: 0.1655 - val_accuracy: 0.9357\n",
      "Epoch 54/100\n",
      "20/20 [==============================] - 7s 350ms/step - loss: 0.1825 - accuracy: 0.9319 - val_loss: 0.1652 - val_accuracy: 0.9357\n",
      "Epoch 55/100\n",
      "20/20 [==============================] - 7s 338ms/step - loss: 0.1819 - accuracy: 0.9320 - val_loss: 0.1653 - val_accuracy: 0.9357\n",
      "Epoch 56/100\n",
      "20/20 [==============================] - 7s 335ms/step - loss: 0.1811 - accuracy: 0.9323 - val_loss: 0.1654 - val_accuracy: 0.9357\n",
      "Epoch 57/100\n",
      "20/20 [==============================] - 7s 328ms/step - loss: 0.1813 - accuracy: 0.9321 - val_loss: 0.1649 - val_accuracy: 0.9357\n",
      "Epoch 58/100\n",
      "20/20 [==============================] - 7s 329ms/step - loss: 0.1809 - accuracy: 0.9322 - val_loss: 0.1647 - val_accuracy: 0.9357\n",
      "Epoch 59/100\n",
      "20/20 [==============================] - 7s 332ms/step - loss: 0.1809 - accuracy: 0.9323 - val_loss: 0.1641 - val_accuracy: 0.9359\n",
      "Epoch 60/100\n",
      "20/20 [==============================] - 7s 326ms/step - loss: 0.1811 - accuracy: 0.9320 - val_loss: 0.1649 - val_accuracy: 0.9357\n",
      "Epoch 61/100\n",
      "20/20 [==============================] - 6s 325ms/step - loss: 0.1808 - accuracy: 0.9322 - val_loss: 0.1648 - val_accuracy: 0.9357\n",
      "Epoch 62/100\n",
      "20/20 [==============================] - 6s 325ms/step - loss: 0.1806 - accuracy: 0.9321 - val_loss: 0.1640 - val_accuracy: 0.9359\n",
      "Epoch 63/100\n",
      "20/20 [==============================] - 6s 325ms/step - loss: 0.1806 - accuracy: 0.9321 - val_loss: 0.1642 - val_accuracy: 0.9358\n",
      "Epoch 64/100\n",
      "20/20 [==============================] - 7s 327ms/step - loss: 0.1802 - accuracy: 0.9323 - val_loss: 0.1639 - val_accuracy: 0.9359\n",
      "Epoch 65/100\n",
      "20/20 [==============================] - 7s 329ms/step - loss: 0.1799 - accuracy: 0.9323 - val_loss: 0.1634 - val_accuracy: 0.9360\n",
      "Epoch 66/100\n",
      "20/20 [==============================] - 7s 340ms/step - loss: 0.1795 - accuracy: 0.9323 - val_loss: 0.1631 - val_accuracy: 0.9360\n",
      "Epoch 67/100\n",
      "20/20 [==============================] - 6s 326ms/step - loss: 0.1798 - accuracy: 0.9322 - val_loss: 0.1635 - val_accuracy: 0.9360\n",
      "Epoch 68/100\n",
      "20/20 [==============================] - 6s 324ms/step - loss: 0.1792 - accuracy: 0.9324 - val_loss: 0.1631 - val_accuracy: 0.9361\n",
      "Epoch 69/100\n",
      "20/20 [==============================] - 6s 324ms/step - loss: 0.1793 - accuracy: 0.9324 - val_loss: 0.1625 - val_accuracy: 0.9361\n",
      "Epoch 70/100\n",
      "20/20 [==============================] - 6s 325ms/step - loss: 0.1791 - accuracy: 0.9322 - val_loss: 0.1626 - val_accuracy: 0.9361\n",
      "Epoch 71/100\n",
      "20/20 [==============================] - 7s 328ms/step - loss: 0.1789 - accuracy: 0.9323 - val_loss: 0.1623 - val_accuracy: 0.9361\n",
      "Epoch 72/100\n",
      "20/20 [==============================] - 6s 323ms/step - loss: 0.1782 - accuracy: 0.9326 - val_loss: 0.1622 - val_accuracy: 0.9360\n",
      "Epoch 73/100\n",
      "20/20 [==============================] - 6s 323ms/step - loss: 0.1786 - accuracy: 0.9324 - val_loss: 0.1619 - val_accuracy: 0.9361\n",
      "Epoch 74/100\n",
      "20/20 [==============================] - 7s 327ms/step - loss: 0.1785 - accuracy: 0.9321 - val_loss: 0.1617 - val_accuracy: 0.9362\n",
      "Epoch 75/100\n",
      "20/20 [==============================] - 7s 327ms/step - loss: 0.1786 - accuracy: 0.9324 - val_loss: 0.1617 - val_accuracy: 0.9362\n",
      "Epoch 76/100\n",
      "20/20 [==============================] - 7s 331ms/step - loss: 0.1781 - accuracy: 0.9325 - val_loss: 0.1614 - val_accuracy: 0.9362\n",
      "Epoch 77/100\n",
      "20/20 [==============================] - 7s 330ms/step - loss: 0.1778 - accuracy: 0.9323 - val_loss: 0.1610 - val_accuracy: 0.9362\n",
      "Epoch 78/100\n",
      "20/20 [==============================] - 7s 337ms/step - loss: 0.1775 - accuracy: 0.9324 - val_loss: 0.1604 - val_accuracy: 0.9362\n",
      "Epoch 79/100\n",
      "20/20 [==============================] - 7s 329ms/step - loss: 0.1773 - accuracy: 0.9326 - val_loss: 0.1606 - val_accuracy: 0.9362\n",
      "Epoch 80/100\n",
      "20/20 [==============================] - 7s 330ms/step - loss: 0.1773 - accuracy: 0.9322 - val_loss: 0.1609 - val_accuracy: 0.9362\n",
      "Epoch 81/100\n",
      "20/20 [==============================] - 7s 328ms/step - loss: 0.1768 - accuracy: 0.9326 - val_loss: 0.1602 - val_accuracy: 0.9362\n",
      "Epoch 82/100\n",
      "20/20 [==============================] - 6s 326ms/step - loss: 0.1766 - accuracy: 0.9325 - val_loss: 0.1603 - val_accuracy: 0.9363\n",
      "Epoch 83/100\n",
      "20/20 [==============================] - 7s 330ms/step - loss: 0.1765 - accuracy: 0.9325 - val_loss: 0.1599 - val_accuracy: 0.9363\n",
      "Epoch 84/100\n",
      "20/20 [==============================] - 7s 331ms/step - loss: 0.1765 - accuracy: 0.9324 - val_loss: 0.1592 - val_accuracy: 0.9364\n",
      "Epoch 85/100\n",
      "20/20 [==============================] - 6s 323ms/step - loss: 0.1766 - accuracy: 0.9325 - val_loss: 0.1595 - val_accuracy: 0.9364\n",
      "Epoch 86/100\n",
      "20/20 [==============================] - 6s 325ms/step - loss: 0.1756 - accuracy: 0.9327 - val_loss: 0.1595 - val_accuracy: 0.9364\n",
      "Epoch 87/100\n",
      "20/20 [==============================] - 6s 322ms/step - loss: 0.1762 - accuracy: 0.9324 - val_loss: 0.1595 - val_accuracy: 0.9365\n",
      "Epoch 88/100\n",
      "20/20 [==============================] - 6s 326ms/step - loss: 0.1758 - accuracy: 0.9326 - val_loss: 0.1585 - val_accuracy: 0.9364\n",
      "Epoch 89/100\n",
      "20/20 [==============================] - 7s 335ms/step - loss: 0.1753 - accuracy: 0.9328 - val_loss: 0.1590 - val_accuracy: 0.9365\n",
      "Epoch 90/100\n",
      "20/20 [==============================] - 7s 373ms/step - loss: 0.1756 - accuracy: 0.9326 - val_loss: 0.1586 - val_accuracy: 0.9366\n",
      "Epoch 91/100\n",
      "20/20 [==============================] - 7s 376ms/step - loss: 0.1755 - accuracy: 0.9329 - val_loss: 0.1587 - val_accuracy: 0.9366\n",
      "Epoch 92/100\n",
      "20/20 [==============================] - 7s 342ms/step - loss: 0.1750 - accuracy: 0.9328 - val_loss: 0.1582 - val_accuracy: 0.9366\n",
      "Epoch 93/100\n",
      "20/20 [==============================] - 7s 329ms/step - loss: 0.1752 - accuracy: 0.9327 - val_loss: 0.1577 - val_accuracy: 0.9367\n",
      "Epoch 94/100\n",
      "20/20 [==============================] - 6s 323ms/step - loss: 0.1745 - accuracy: 0.9330 - val_loss: 0.1572 - val_accuracy: 0.9366\n",
      "Epoch 95/100\n",
      "20/20 [==============================] - 6s 326ms/step - loss: 0.1742 - accuracy: 0.9330 - val_loss: 0.1567 - val_accuracy: 0.9366\n",
      "Epoch 96/100\n",
      "20/20 [==============================] - 6s 322ms/step - loss: 0.1740 - accuracy: 0.9331 - val_loss: 0.1567 - val_accuracy: 0.9366\n",
      "Epoch 97/100\n",
      "20/20 [==============================] - 6s 320ms/step - loss: 0.1738 - accuracy: 0.9331 - val_loss: 0.1567 - val_accuracy: 0.9367\n",
      "Epoch 98/100\n",
      "20/20 [==============================] - 6s 326ms/step - loss: 0.1737 - accuracy: 0.9330 - val_loss: 0.1562 - val_accuracy: 0.9367\n",
      "Epoch 99/100\n",
      "20/20 [==============================] - 6s 320ms/step - loss: 0.1737 - accuracy: 0.9330 - val_loss: 0.1561 - val_accuracy: 0.9368\n",
      "Epoch 100/100\n",
      "20/20 [==============================] - 6s 320ms/step - loss: 0.1735 - accuracy: 0.9332 - val_loss: 0.1560 - val_accuracy: 0.9368\n"
     ]
    }
   ],
   "source": [
    "history=model.fit(train_LSTM_X, train_LSTM_y,epochs=100,batch_size=20000, validation_data=(val_LSTM_X, val_LSTM_y))"
   ]
  },
  {
   "cell_type": "code",
   "execution_count": 94,
   "id": "988cf4a9",
   "metadata": {},
   "outputs": [],
   "source": [
    "model.save('Save_Model.h5')"
   ]
  },
  {
   "cell_type": "code",
   "execution_count": 95,
   "id": "436874d9",
   "metadata": {},
   "outputs": [
    {
     "name": "stdout",
     "output_type": "stream",
     "text": [
      "Model: \"model\"\n",
      "_________________________________________________________________\n",
      " Layer (type)                Output Shape              Param #   \n",
      "=================================================================\n",
      " input_4 (InputLayer)        [(None, 1, 9)]            0         \n",
      "                                                                 \n",
      " lstm_20 (LSTM)              (None, 1, 50)             12000     \n",
      "                                                                 \n",
      " lstm_21 (LSTM)              (None, 1, 50)             20200     \n",
      "                                                                 \n",
      " dense_8 (Dense)             (None, 1, 1)              51        \n",
      "                                                                 \n",
      "=================================================================\n",
      "Total params: 32,251\n",
      "Trainable params: 32,251\n",
      "Non-trainable params: 0\n",
      "_________________________________________________________________\n"
     ]
    }
   ],
   "source": [
    "from numpy import loadtxt\n",
    "from keras.models import load_model\n",
    " \n",
    "# load model\n",
    "model = load_model('Save_Model.h5')\n",
    "# summarize model.\n",
    "model.summary()"
   ]
  },
  {
   "cell_type": "code",
   "execution_count": null,
   "id": "059cb4eb",
   "metadata": {},
   "outputs": [],
   "source": []
  },
  {
   "cell_type": "code",
   "execution_count": 96,
   "id": "323e970c",
   "metadata": {},
   "outputs": [
    {
     "name": "stdout",
     "output_type": "stream",
     "text": [
      "Train: 0.938, Test: 0.937\n"
     ]
    }
   ],
   "source": [
    "# evaluate the model\n",
    "_, train_acc = model.evaluate(train_LSTM_X, train_LSTM_y, verbose=0)\n",
    "_, test_acc = model.evaluate(val_LSTM_X, val_LSTM_y, verbose=0)\n",
    "print('Train: %.3f, Test: %.3f' % (train_acc, test_acc))"
   ]
  },
  {
   "cell_type": "code",
   "execution_count": 97,
   "id": "f6535542",
   "metadata": {},
   "outputs": [
    {
     "data": {
      "image/png": "[encoded data removed]",
      "text/plain": [
       "<Figure size 640x480 with 2 Axes>"
      ]
     },
     "metadata": {},
     "output_type": "display_data"
    }
   ],
   "source": [
    "# plot loss during training\n",
    "pyplot.subplot(211)\n",
    "pyplot.title('Loss')\n",
    "pyplot.plot(history.history['loss'], label='train')\n",
    "pyplot.plot(history.history['val_loss'], label='test')\n",
    "pyplot.legend()\n",
    "# plot accuracy during training\n",
    "pyplot.subplot(212)\n",
    "pyplot.title('Accuracy')\n",
    "pyplot.plot(history.history['accuracy'], label='train')\n",
    "pyplot.plot(history.history['val_accuracy'], label='test')\n",
    "pyplot.legend()\n",
    "pyplot.show()"
   ]
  },
  {
   "cell_type": "code",
   "execution_count": 98,
   "id": "0aba98cd",
   "metadata": {},
   "outputs": [],
   "source": [
    "# predict probabilities for test set\n",
    "yhat_probs = model.predict(val_LSTM_X, verbose=0)\n",
    "# reduce to 1d array\n",
    "yhat_probs = yhat_probs[:, 0]"
   ]
  },
  {
   "cell_type": "code",
   "execution_count": 100,
   "id": "fb96dd5f",
   "metadata": {},
   "outputs": [],
   "source": [
    "yhat_probs = np.around(yhat_probs)"
   ]
  },
  {
   "cell_type": "code",
   "execution_count": 101,
   "id": "cb50451c",
   "metadata": {},
   "outputs": [
    {
     "name": "stdout",
     "output_type": "stream",
     "text": [
      "Accuracy: 0.936836\n",
      "Precision: 0.987837\n",
      "Recall: 0.884565\n"
     ]
    }
   ],
   "source": [
    "from sklearn.metrics import accuracy_score\n",
    "from sklearn.metrics import precision_score\n",
    "from sklearn.metrics import recall_score\n",
    "from sklearn.metrics import confusion_matrix\n",
    "\n",
    "# accuracy: (tp + tn) / (p + n)\n",
    "accuracy = accuracy_score(val_LSTM_y, yhat_probs)\n",
    "print('Accuracy: %f' % accuracy)\n",
    "# precision tp / (tp + fp)\n",
    "precision = precision_score(val_LSTM_y, yhat_probs)\n",
    "print('Precision: %f' % precision)\n",
    "# recall: tp / (tp + fn)\n",
    "recall = recall_score(val_LSTM_y, yhat_probs)\n",
    "print('Recall: %f' % recall)\n"
   ]
  },
  {
   "cell_type": "code",
   "execution_count": 102,
   "id": "20ae9474",
   "metadata": {},
   "outputs": [
    {
     "name": "stdout",
     "output_type": "stream",
     "text": [
      "[[84365   929]\n",
      " [ 9846 75449]]\n"
     ]
    }
   ],
   "source": [
    "cm = confusion_matrix(y_test, yhat_probs)\n",
    "print(cm)"
   ]
  },
  {
   "cell_type": "code",
   "execution_count": 103,
   "id": "0c39501f",
   "metadata": {},
   "outputs": [
    {
     "name": "stdout",
     "output_type": "stream",
     "text": [
      "              precision    recall  f1-score   support\n",
      "\n",
      "           0       0.90      0.99      0.94     85294\n",
      "           1       0.99      0.88      0.93     85295\n",
      "\n",
      "    accuracy                           0.94    170589\n",
      "   macro avg       0.94      0.94      0.94    170589\n",
      "weighted avg       0.94      0.94      0.94    170589\n",
      "\n"
     ]
    }
   ],
   "source": [
    "print(classification_report(y_test, yhat_probs))"
   ]
  },
  {
   "cell_type": "code",
   "execution_count": 104,
   "id": "b492ca9c",
   "metadata": {},
   "outputs": [],
   "source": [
    "%matplotlib inline\n",
    "from sklearn.metrics import confusion_matrix\n",
    "import itertools\n",
    "import matplotlib.pyplot as plt"
   ]
  },
  {
   "cell_type": "code",
   "execution_count": 105,
   "id": "eb3d0977",
   "metadata": {},
   "outputs": [],
   "source": [
    "def plot_confusion_matrix(cm, classes,\n",
    "                        normalize=False,\n",
    "                        title='Confusion matrix',\n",
    "                        cmap=plt.cm.Blues):\n",
    "    \"\"\"\n",
    "    This function prints and plots the confusion matrix.\n",
    "    Normalization can be applied by setting `normalize=True`.\n",
    "    \"\"\"\n",
    "    plt.imshow(cm, interpolation='nearest', cmap=cmap)\n",
    "    plt.title(title)\n",
    "    plt.colorbar()\n",
    "    tick_marks = np.arange(len(classes))\n",
    "    plt.xticks(tick_marks, classes, rotation=45)\n",
    "    plt.yticks(tick_marks, classes)\n",
    "\n",
    "    if normalize:\n",
    "        cm = cm.astype('float') / cm.sum(axis=1)[:, np.newaxis]\n",
    "        print(\"Normalized confusion matrix\")\n",
    "    else:\n",
    "        print('Confusion matrix, without normalization')\n",
    "\n",
    "    print(cm)\n",
    "\n",
    "    thresh = cm.max() / 2.\n",
    "    for i, j in itertools.product(range(cm.shape[0]), range(cm.shape[1])):\n",
    "        plt.text(j, i, cm[i, j],\n",
    "            horizontalalignment=\"center\",\n",
    "            color=\"white\" if cm[i, j] > thresh else \"black\")\n",
    "\n",
    "    plt.tight_layout()\n",
    "    plt.ylabel('True label')\n",
    "    plt.xlabel('Predicted label')\n",
    "labels = ['Normal','Fraud']"
   ]
  },
  {
   "cell_type": "code",
   "execution_count": 106,
   "id": "b8bef2b9",
   "metadata": {},
   "outputs": [
    {
     "name": "stdout",
     "output_type": "stream",
     "text": [
      "Confusion matrix, without normalization\n",
      "[[84365   929]\n",
      " [ 9846 75449]]\n"
     ]
    },
    {
     "data": {
      "image/png": "[encoded data removed]",
      "text/plain": [
       "<Figure size 640x480 with 2 Axes>"
      ]
     },
     "metadata": {},
     "output_type": "display_data"
    }
   ],
   "source": [
    "plot_confusion_matrix(cm=cm, classes=labels, title='LSTM')"
   ]
  },
  {
   "cell_type": "code",
   "execution_count": null,
   "id": "32455e10",
   "metadata": {},
   "outputs": [],
   "source": []
  },
  {
   "cell_type": "markdown",
   "id": "3f6a4b64",
   "metadata": {},
   "source": [
    "# Using Attention"
   ]
  },
  {
   "cell_type": "code",
   "execution_count": 107,
   "id": "a3fb2f98",
   "metadata": {},
   "outputs": [],
   "source": [
    "class attention(Layer):\n",
    "    def __init__(self,**kwargs):\n",
    "        super(attention,self).__init__(**kwargs)\n",
    "\n",
    "    def build(self,input_shape):\n",
    "        self.W=self.add_weight(name=\"att_weight\",shape=(input_shape[-1],1),initializer=\"normal\")\n",
    "        self.b=self.add_weight(name=\"att_bias\",shape=(input_shape[1],1),initializer=\"zeros\")        \n",
    "        super(attention, self).build(input_shape)\n",
    "\n",
    "    def call(self,x):\n",
    "        et=K.squeeze(K.tanh(K.dot(x,self.W)+self.b),axis=-1)\n",
    "        at=K.softmax(et)\n",
    "        at=K.expand_dims(at,axis=-1)\n",
    "        output=x*at\n",
    "        return K.sum(output,axis=1)\n",
    "\n",
    "    def compute_output_shape(self,input_shape):\n",
    "        return (input_shape[0],input_shape[-1])\n",
    "\n",
    "    def get_config(self):\n",
    "        return super(attention,self).get_config()"
   ]
  },
  {
   "cell_type": "code",
   "execution_count": 108,
   "id": "69d809c8",
   "metadata": {},
   "outputs": [],
   "source": [
    "inputs1=Input((1,9))\n",
    "att_in=LSTM(50,return_sequences=True,dropout=0.3,recurrent_dropout=0.2)(inputs1)\n",
    "att_in_1=LSTM(50,return_sequences=True,dropout=0.3,recurrent_dropout=0.2)(att_in)\n",
    "att_out=attention()(att_in_1)\n",
    "outputs1=Dense(1,activation='sigmoid',trainable=True)(att_out)\n",
    "model1=Model(inputs1,outputs1)"
   ]
  },
  {
   "cell_type": "code",
   "execution_count": 109,
   "id": "2bf92c53",
   "metadata": {},
   "outputs": [],
   "source": [
    "model1.compile(loss='binary_crossentropy', optimizer='adam', metrics=['accuracy'])"
   ]
  },
  {
   "cell_type": "code",
   "execution_count": 110,
   "id": "f5e34143",
   "metadata": {},
   "outputs": [
    {
     "name": "stdout",
     "output_type": "stream",
     "text": [
      "Epoch 1/100\n",
      "14/14 [==============================] - 13s 522ms/step - loss: 0.6838 - accuracy: 0.6912 - val_loss: 0.6618 - val_accuracy: 0.8764\n",
      "Epoch 2/100\n",
      "14/14 [==============================] - 7s 475ms/step - loss: 0.6424 - accuracy: 0.8789 - val_loss: 0.6048 - val_accuracy: 0.8877\n",
      "Epoch 3/100\n",
      "14/14 [==============================] - 7s 469ms/step - loss: 0.5755 - accuracy: 0.8811 - val_loss: 0.5189 - val_accuracy: 0.8861\n",
      "Epoch 4/100\n",
      "14/14 [==============================] - 6s 465ms/step - loss: 0.4876 - accuracy: 0.8801 - val_loss: 0.4297 - val_accuracy: 0.8868\n",
      "Epoch 5/100\n",
      "14/14 [==============================] - 7s 468ms/step - loss: 0.4047 - accuracy: 0.8831 - val_loss: 0.3544 - val_accuracy: 0.8934\n",
      "Epoch 6/100\n",
      "14/14 [==============================] - 7s 471ms/step - loss: 0.3393 - accuracy: 0.8913 - val_loss: 0.3006 - val_accuracy: 0.9025\n",
      "Epoch 7/100\n",
      "14/14 [==============================] - 7s 468ms/step - loss: 0.2968 - accuracy: 0.8997 - val_loss: 0.2693 - val_accuracy: 0.9074\n",
      "Epoch 8/100\n",
      "14/14 [==============================] - 7s 469ms/step - loss: 0.2714 - accuracy: 0.9061 - val_loss: 0.2475 - val_accuracy: 0.9099\n",
      "Epoch 9/100\n",
      "14/14 [==============================] - 6s 463ms/step - loss: 0.2541 - accuracy: 0.9110 - val_loss: 0.2303 - val_accuracy: 0.9108\n",
      "Epoch 10/100\n",
      "14/14 [==============================] - 7s 472ms/step - loss: 0.2414 - accuracy: 0.9136 - val_loss: 0.2173 - val_accuracy: 0.9136\n",
      "Epoch 11/100\n",
      "14/14 [==============================] - 6s 464ms/step - loss: 0.2328 - accuracy: 0.9158 - val_loss: 0.2077 - val_accuracy: 0.9206\n",
      "Epoch 12/100\n",
      "14/14 [==============================] - 6s 462ms/step - loss: 0.2265 - accuracy: 0.9174 - val_loss: 0.2004 - val_accuracy: 0.9257\n",
      "Epoch 13/100\n",
      "14/14 [==============================] - 6s 461ms/step - loss: 0.2220 - accuracy: 0.9185 - val_loss: 0.1952 - val_accuracy: 0.9274\n",
      "Epoch 14/100\n",
      "14/14 [==============================] - 7s 466ms/step - loss: 0.2186 - accuracy: 0.9200 - val_loss: 0.1914 - val_accuracy: 0.9281\n",
      "Epoch 15/100\n",
      "14/14 [==============================] - 7s 471ms/step - loss: 0.2163 - accuracy: 0.9199 - val_loss: 0.1886 - val_accuracy: 0.9290\n",
      "Epoch 16/100\n",
      "14/14 [==============================] - 7s 472ms/step - loss: 0.2144 - accuracy: 0.9205 - val_loss: 0.1871 - val_accuracy: 0.9293\n",
      "Epoch 17/100\n",
      "14/14 [==============================] - 7s 465ms/step - loss: 0.2124 - accuracy: 0.9206 - val_loss: 0.1854 - val_accuracy: 0.9299\n",
      "Epoch 18/100\n",
      "14/14 [==============================] - 6s 466ms/step - loss: 0.2106 - accuracy: 0.9214 - val_loss: 0.1844 - val_accuracy: 0.9300\n",
      "Epoch 19/100\n",
      "14/14 [==============================] - 7s 467ms/step - loss: 0.2084 - accuracy: 0.9222 - val_loss: 0.1828 - val_accuracy: 0.9304\n",
      "Epoch 20/100\n",
      "14/14 [==============================] - 6s 464ms/step - loss: 0.2067 - accuracy: 0.9229 - val_loss: 0.1818 - val_accuracy: 0.9310\n",
      "Epoch 21/100\n",
      "14/14 [==============================] - 7s 467ms/step - loss: 0.2054 - accuracy: 0.9233 - val_loss: 0.1806 - val_accuracy: 0.9315\n",
      "Epoch 22/100\n",
      "14/14 [==============================] - 6s 464ms/step - loss: 0.2037 - accuracy: 0.9237 - val_loss: 0.1795 - val_accuracy: 0.9323\n",
      "Epoch 23/100\n",
      "14/14 [==============================] - 6s 465ms/step - loss: 0.2027 - accuracy: 0.9243 - val_loss: 0.1783 - val_accuracy: 0.9330\n",
      "Epoch 24/100\n",
      "14/14 [==============================] - 6s 465ms/step - loss: 0.2013 - accuracy: 0.9247 - val_loss: 0.1775 - val_accuracy: 0.9333\n",
      "Epoch 25/100\n",
      "14/14 [==============================] - 7s 467ms/step - loss: 0.1997 - accuracy: 0.9258 - val_loss: 0.1767 - val_accuracy: 0.9336\n",
      "Epoch 26/100\n",
      "14/14 [==============================] - 7s 466ms/step - loss: 0.1985 - accuracy: 0.9259 - val_loss: 0.1756 - val_accuracy: 0.9338\n",
      "Epoch 27/100\n",
      "14/14 [==============================] - 6s 464ms/step - loss: 0.1978 - accuracy: 0.9261 - val_loss: 0.1748 - val_accuracy: 0.9340\n",
      "Epoch 28/100\n",
      "14/14 [==============================] - 7s 467ms/step - loss: 0.1965 - accuracy: 0.9265 - val_loss: 0.1742 - val_accuracy: 0.9341\n",
      "Epoch 29/100\n",
      "14/14 [==============================] - 6s 463ms/step - loss: 0.1952 - accuracy: 0.9276 - val_loss: 0.1733 - val_accuracy: 0.9344\n",
      "Epoch 30/100\n",
      "14/14 [==============================] - 7s 470ms/step - loss: 0.1941 - accuracy: 0.9278 - val_loss: 0.1728 - val_accuracy: 0.9346\n",
      "Epoch 31/100\n",
      "14/14 [==============================] - 7s 491ms/step - loss: 0.1937 - accuracy: 0.9278 - val_loss: 0.1719 - val_accuracy: 0.9347\n",
      "Epoch 32/100\n",
      "14/14 [==============================] - 7s 467ms/step - loss: 0.1928 - accuracy: 0.9279 - val_loss: 0.1719 - val_accuracy: 0.9347\n",
      "Epoch 33/100\n",
      "14/14 [==============================] - 6s 464ms/step - loss: 0.1920 - accuracy: 0.9288 - val_loss: 0.1712 - val_accuracy: 0.9349\n",
      "Epoch 34/100\n",
      "14/14 [==============================] - 6s 461ms/step - loss: 0.1914 - accuracy: 0.9291 - val_loss: 0.1710 - val_accuracy: 0.9350\n",
      "Epoch 35/100\n",
      "14/14 [==============================] - 6s 462ms/step - loss: 0.1910 - accuracy: 0.9289 - val_loss: 0.1709 - val_accuracy: 0.9350\n",
      "Epoch 36/100\n",
      "14/14 [==============================] - 7s 468ms/step - loss: 0.1900 - accuracy: 0.9296 - val_loss: 0.1702 - val_accuracy: 0.9351\n",
      "Epoch 37/100\n",
      "14/14 [==============================] - 7s 475ms/step - loss: 0.1901 - accuracy: 0.9295 - val_loss: 0.1697 - val_accuracy: 0.9352\n",
      "Epoch 38/100\n",
      "14/14 [==============================] - 7s 477ms/step - loss: 0.1898 - accuracy: 0.9295 - val_loss: 0.1699 - val_accuracy: 0.9353\n",
      "Epoch 39/100\n",
      "14/14 [==============================] - 6s 463ms/step - loss: 0.1891 - accuracy: 0.9296 - val_loss: 0.1695 - val_accuracy: 0.9353\n",
      "Epoch 40/100\n",
      "14/14 [==============================] - 6s 465ms/step - loss: 0.1889 - accuracy: 0.9300 - val_loss: 0.1696 - val_accuracy: 0.9353\n",
      "Epoch 41/100\n",
      "14/14 [==============================] - 6s 465ms/step - loss: 0.1883 - accuracy: 0.9300 - val_loss: 0.1692 - val_accuracy: 0.9354\n",
      "Epoch 42/100\n",
      "14/14 [==============================] - 6s 465ms/step - loss: 0.1885 - accuracy: 0.9299 - val_loss: 0.1690 - val_accuracy: 0.9354\n",
      "Epoch 43/100\n",
      "14/14 [==============================] - 7s 467ms/step - loss: 0.1882 - accuracy: 0.9302 - val_loss: 0.1685 - val_accuracy: 0.9355\n",
      "Epoch 44/100\n",
      "14/14 [==============================] - 6s 466ms/step - loss: 0.1874 - accuracy: 0.9304 - val_loss: 0.1691 - val_accuracy: 0.9354\n",
      "Epoch 45/100\n",
      "14/14 [==============================] - 7s 473ms/step - loss: 0.1870 - accuracy: 0.9306 - val_loss: 0.1684 - val_accuracy: 0.9355\n",
      "Epoch 46/100\n",
      "14/14 [==============================] - 7s 475ms/step - loss: 0.1868 - accuracy: 0.9305 - val_loss: 0.1684 - val_accuracy: 0.9355\n",
      "Epoch 47/100\n",
      "14/14 [==============================] - 7s 475ms/step - loss: 0.1863 - accuracy: 0.9309 - val_loss: 0.1684 - val_accuracy: 0.9355\n",
      "Epoch 48/100\n",
      "14/14 [==============================] - 7s 471ms/step - loss: 0.1866 - accuracy: 0.9307 - val_loss: 0.1683 - val_accuracy: 0.9355\n",
      "Epoch 49/100\n",
      "14/14 [==============================] - 7s 470ms/step - loss: 0.1869 - accuracy: 0.9307 - val_loss: 0.1679 - val_accuracy: 0.9356\n",
      "Epoch 50/100\n",
      "14/14 [==============================] - 7s 478ms/step - loss: 0.1860 - accuracy: 0.9310 - val_loss: 0.1681 - val_accuracy: 0.9355\n",
      "Epoch 51/100\n",
      "14/14 [==============================] - 7s 489ms/step - loss: 0.1862 - accuracy: 0.9307 - val_loss: 0.1677 - val_accuracy: 0.9356\n",
      "Epoch 52/100\n",
      "14/14 [==============================] - 7s 468ms/step - loss: 0.1859 - accuracy: 0.9310 - val_loss: 0.1676 - val_accuracy: 0.9356\n",
      "Epoch 53/100\n",
      "14/14 [==============================] - 6s 466ms/step - loss: 0.1855 - accuracy: 0.9308 - val_loss: 0.1677 - val_accuracy: 0.9356\n",
      "Epoch 54/100\n",
      "14/14 [==============================] - 6s 464ms/step - loss: 0.1850 - accuracy: 0.9312 - val_loss: 0.1675 - val_accuracy: 0.9356\n",
      "Epoch 55/100\n",
      "14/14 [==============================] - 7s 469ms/step - loss: 0.1847 - accuracy: 0.9313 - val_loss: 0.1675 - val_accuracy: 0.9356\n",
      "Epoch 56/100\n",
      "14/14 [==============================] - 7s 467ms/step - loss: 0.1852 - accuracy: 0.9313 - val_loss: 0.1670 - val_accuracy: 0.9357\n",
      "Epoch 57/100\n",
      "14/14 [==============================] - 6s 464ms/step - loss: 0.1851 - accuracy: 0.9314 - val_loss: 0.1674 - val_accuracy: 0.9356\n",
      "Epoch 58/100\n",
      "14/14 [==============================] - 6s 464ms/step - loss: 0.1848 - accuracy: 0.9312 - val_loss: 0.1673 - val_accuracy: 0.9357\n",
      "Epoch 59/100\n",
      "14/14 [==============================] - 6s 465ms/step - loss: 0.1843 - accuracy: 0.9316 - val_loss: 0.1670 - val_accuracy: 0.9357\n",
      "Epoch 60/100\n",
      "14/14 [==============================] - 6s 458ms/step - loss: 0.1846 - accuracy: 0.9315 - val_loss: 0.1671 - val_accuracy: 0.9357\n",
      "Epoch 61/100\n",
      "14/14 [==============================] - 6s 463ms/step - loss: 0.1840 - accuracy: 0.9317 - val_loss: 0.1666 - val_accuracy: 0.9357\n",
      "Epoch 62/100\n",
      "14/14 [==============================] - 7s 476ms/step - loss: 0.1837 - accuracy: 0.9317 - val_loss: 0.1670 - val_accuracy: 0.9357\n",
      "Epoch 63/100\n",
      "14/14 [==============================] - 6s 459ms/step - loss: 0.1841 - accuracy: 0.9315 - val_loss: 0.1662 - val_accuracy: 0.9359\n",
      "Epoch 64/100\n",
      "14/14 [==============================] - 6s 461ms/step - loss: 0.1840 - accuracy: 0.9316 - val_loss: 0.1663 - val_accuracy: 0.9358\n",
      "Epoch 65/100\n",
      "14/14 [==============================] - 7s 472ms/step - loss: 0.1837 - accuracy: 0.9314 - val_loss: 0.1663 - val_accuracy: 0.9358\n",
      "Epoch 66/100\n",
      "14/14 [==============================] - 6s 462ms/step - loss: 0.1837 - accuracy: 0.9318 - val_loss: 0.1662 - val_accuracy: 0.9358\n",
      "Epoch 67/100\n",
      "14/14 [==============================] - 6s 465ms/step - loss: 0.1831 - accuracy: 0.9318 - val_loss: 0.1663 - val_accuracy: 0.9358\n",
      "Epoch 68/100\n",
      "14/14 [==============================] - 6s 466ms/step - loss: 0.1834 - accuracy: 0.9318 - val_loss: 0.1662 - val_accuracy: 0.9358\n",
      "Epoch 69/100\n",
      "14/14 [==============================] - 6s 465ms/step - loss: 0.1832 - accuracy: 0.9316 - val_loss: 0.1658 - val_accuracy: 0.9359\n",
      "Epoch 70/100\n",
      "14/14 [==============================] - 6s 460ms/step - loss: 0.1832 - accuracy: 0.9318 - val_loss: 0.1655 - val_accuracy: 0.9360\n",
      "Epoch 71/100\n",
      "14/14 [==============================] - 6s 462ms/step - loss: 0.1833 - accuracy: 0.9317 - val_loss: 0.1662 - val_accuracy: 0.9358\n",
      "Epoch 72/100\n",
      "14/14 [==============================] - 6s 461ms/step - loss: 0.1823 - accuracy: 0.9321 - val_loss: 0.1656 - val_accuracy: 0.9359\n",
      "Epoch 73/100\n",
      "14/14 [==============================] - 6s 463ms/step - loss: 0.1824 - accuracy: 0.9318 - val_loss: 0.1658 - val_accuracy: 0.9359\n",
      "Epoch 74/100\n",
      "14/14 [==============================] - 7s 468ms/step - loss: 0.1832 - accuracy: 0.9321 - val_loss: 0.1652 - val_accuracy: 0.9360\n",
      "Epoch 75/100\n",
      "14/14 [==============================] - 6s 460ms/step - loss: 0.1825 - accuracy: 0.9322 - val_loss: 0.1652 - val_accuracy: 0.9360\n",
      "Epoch 76/100\n",
      "14/14 [==============================] - 6s 462ms/step - loss: 0.1822 - accuracy: 0.9323 - val_loss: 0.1655 - val_accuracy: 0.9359\n",
      "Epoch 77/100\n",
      "14/14 [==============================] - 7s 467ms/step - loss: 0.1827 - accuracy: 0.9319 - val_loss: 0.1652 - val_accuracy: 0.9360\n",
      "Epoch 78/100\n",
      "14/14 [==============================] - 6s 465ms/step - loss: 0.1816 - accuracy: 0.9322 - val_loss: 0.1651 - val_accuracy: 0.9360\n",
      "Epoch 79/100\n",
      "14/14 [==============================] - 7s 476ms/step - loss: 0.1815 - accuracy: 0.9325 - val_loss: 0.1651 - val_accuracy: 0.9361\n",
      "Epoch 80/100\n",
      "14/14 [==============================] - 7s 479ms/step - loss: 0.1818 - accuracy: 0.9322 - val_loss: 0.1643 - val_accuracy: 0.9362\n",
      "Epoch 81/100\n",
      "14/14 [==============================] - 6s 466ms/step - loss: 0.1811 - accuracy: 0.9320 - val_loss: 0.1648 - val_accuracy: 0.9361\n",
      "Epoch 82/100\n",
      "14/14 [==============================] - 6s 461ms/step - loss: 0.1814 - accuracy: 0.9321 - val_loss: 0.1645 - val_accuracy: 0.9362\n",
      "Epoch 83/100\n",
      "14/14 [==============================] - 6s 465ms/step - loss: 0.1813 - accuracy: 0.9322 - val_loss: 0.1643 - val_accuracy: 0.9363\n",
      "Epoch 84/100\n",
      "14/14 [==============================] - 7s 470ms/step - loss: 0.1814 - accuracy: 0.9321 - val_loss: 0.1643 - val_accuracy: 0.9361\n",
      "Epoch 85/100\n",
      "14/14 [==============================] - 6s 462ms/step - loss: 0.1810 - accuracy: 0.9323 - val_loss: 0.1643 - val_accuracy: 0.9361\n",
      "Epoch 86/100\n",
      "14/14 [==============================] - 7s 467ms/step - loss: 0.1806 - accuracy: 0.9323 - val_loss: 0.1639 - val_accuracy: 0.9363\n",
      "Epoch 87/100\n",
      "14/14 [==============================] - 6s 464ms/step - loss: 0.1806 - accuracy: 0.9324 - val_loss: 0.1639 - val_accuracy: 0.9363\n",
      "Epoch 88/100\n",
      "14/14 [==============================] - 7s 469ms/step - loss: 0.1808 - accuracy: 0.9320 - val_loss: 0.1635 - val_accuracy: 0.9364\n",
      "Epoch 89/100\n",
      "14/14 [==============================] - 6s 462ms/step - loss: 0.1800 - accuracy: 0.9328 - val_loss: 0.1642 - val_accuracy: 0.9362\n",
      "Epoch 90/100\n",
      "14/14 [==============================] - 6s 462ms/step - loss: 0.1802 - accuracy: 0.9324 - val_loss: 0.1631 - val_accuracy: 0.9364\n",
      "Epoch 91/100\n",
      "14/14 [==============================] - 7s 466ms/step - loss: 0.1802 - accuracy: 0.9325 - val_loss: 0.1637 - val_accuracy: 0.9363\n",
      "Epoch 92/100\n",
      "14/14 [==============================] - 7s 473ms/step - loss: 0.1799 - accuracy: 0.9326 - val_loss: 0.1632 - val_accuracy: 0.9363\n",
      "Epoch 93/100\n",
      "14/14 [==============================] - 7s 483ms/step - loss: 0.1797 - accuracy: 0.9325 - val_loss: 0.1631 - val_accuracy: 0.9363\n",
      "Epoch 94/100\n",
      "14/14 [==============================] - 7s 475ms/step - loss: 0.1803 - accuracy: 0.9321 - val_loss: 0.1636 - val_accuracy: 0.9363\n",
      "Epoch 95/100\n",
      "14/14 [==============================] - 7s 472ms/step - loss: 0.1798 - accuracy: 0.9325 - val_loss: 0.1630 - val_accuracy: 0.9364\n",
      "Epoch 96/100\n",
      "14/14 [==============================] - 7s 469ms/step - loss: 0.1791 - accuracy: 0.9328 - val_loss: 0.1630 - val_accuracy: 0.9362\n",
      "Epoch 97/100\n",
      "14/14 [==============================] - 7s 471ms/step - loss: 0.1796 - accuracy: 0.9327 - val_loss: 0.1624 - val_accuracy: 0.9364\n",
      "Epoch 98/100\n",
      "14/14 [==============================] - 7s 471ms/step - loss: 0.1792 - accuracy: 0.9325 - val_loss: 0.1626 - val_accuracy: 0.9364\n",
      "Epoch 99/100\n",
      "14/14 [==============================] - 7s 467ms/step - loss: 0.1793 - accuracy: 0.9327 - val_loss: 0.1622 - val_accuracy: 0.9364\n",
      "Epoch 100/100\n",
      "14/14 [==============================] - 6s 465ms/step - loss: 0.1789 - accuracy: 0.9328 - val_loss: 0.1625 - val_accuracy: 0.9363\n"
     ]
    }
   ],
   "source": [
    "history1=model1.fit(train_LSTM_X, train_LSTM_y,epochs=100,batch_size=30000, validation_data=(val_LSTM_X, val_LSTM_y))"
   ]
  },
  {
   "cell_type": "code",
   "execution_count": 115,
   "id": "f5a0d59e",
   "metadata": {},
   "outputs": [
    {
     "name": "stdout",
     "output_type": "stream",
     "text": [
      "Saved model to disk\n"
     ]
    }
   ],
   "source": [
    "# save Attention model and architecture to single file\n",
    "model1.save('Save_Model_Attention.h5')\n",
    "print(\"Saved model to disk\")"
   ]
  },
  {
   "cell_type": "code",
   "execution_count": 118,
   "id": "d9fda896",
   "metadata": {},
   "outputs": [
    {
     "name": "stdout",
     "output_type": "stream",
     "text": [
      "Train: 0.937, Test: 0.936\n"
     ]
    }
   ],
   "source": [
    "_, train_acc = model1.evaluate(train_LSTM_X, train_LSTM_y, verbose=0)\n",
    "_, test_acc = model1.evaluate(val_LSTM_X, val_LSTM_y, verbose=0)\n",
    "print('Train: %.3f, Test: %.3f' % (train_acc, test_acc))"
   ]
  },
  {
   "cell_type": "code",
   "execution_count": 119,
   "id": "6ca263be",
   "metadata": {},
   "outputs": [],
   "source": [
    "# predict probabilities for test set\n",
    "yhat_probs1 = model1.predict(val_LSTM_X, verbose=0)\n",
    "# reduce to 1d array\n",
    "yhat_probs1 = yhat_probs1[:, 0]"
   ]
  },
  {
   "cell_type": "code",
   "execution_count": 120,
   "id": "1450f2a7",
   "metadata": {},
   "outputs": [],
   "source": [
    "yhat_probs1 = np.around(yhat_probs1)"
   ]
  },
  {
   "cell_type": "code",
   "execution_count": 121,
   "id": "f6086a49",
   "metadata": {},
   "outputs": [
    {
     "name": "stdout",
     "output_type": "stream",
     "text": [
      "Accuracy: 0.936344\n",
      "Precision: 0.990575\n",
      "Recall: 0.881072\n"
     ]
    }
   ],
   "source": [
    "# demonstration of calculating metrics for a neural network model using sklearn\n",
    "from sklearn.metrics import accuracy_score\n",
    "from sklearn.metrics import precision_score\n",
    "from sklearn.metrics import recall_score\n",
    "from sklearn.metrics import confusion_matrix\n",
    "\n",
    "# accuracy: (tp + tn) / (p + n)\n",
    "accuracy = accuracy_score(val_LSTM_y, yhat_probs1)\n",
    "print('Accuracy: %f' % accuracy)\n",
    "# precision tp / (tp + fp)\n",
    "precision = precision_score(val_LSTM_y, yhat_probs1)\n",
    "print('Precision: %f' % precision)\n",
    "# recall: tp / (tp + fn)\n",
    "recall = recall_score(val_LSTM_y, yhat_probs1)\n",
    "print('Recall: %f' % recall)"
   ]
  },
  {
   "cell_type": "code",
   "execution_count": 122,
   "id": "20052936",
   "metadata": {},
   "outputs": [],
   "source": [
    "cm1 = confusion_matrix(y_true=val_LSTM_y, y_pred=yhat_probs1)"
   ]
  },
  {
   "cell_type": "code",
   "execution_count": 123,
   "id": "2baa4119",
   "metadata": {},
   "outputs": [
    {
     "name": "stdout",
     "output_type": "stream",
     "text": [
      "Confusion matrix, without normalization\n",
      "[[84579   715]\n",
      " [10144 75151]]\n"
     ]
    },
    {
     "data": {
      "image/png": "[encoded data removed]",
      "text/plain": [
       "<Figure size 640x480 with 2 Axes>"
      ]
     },
     "metadata": {},
     "output_type": "display_data"
    }
   ],
   "source": [
    "plot_confusion_matrix(cm=cm1, classes=labels, title='LSTM-Attention', normalize=False)"
   ]
  },
  {
   "cell_type": "code",
   "execution_count": 124,
   "id": "2d462de9",
   "metadata": {},
   "outputs": [
    {
     "name": "stdout",
     "output_type": "stream",
     "text": [
      "              precision    recall  f1-score   support\n",
      "\n",
      "           0       0.89      0.99      0.94     85294\n",
      "           1       0.99      0.88      0.93     85295\n",
      "\n",
      "    accuracy                           0.94    170589\n",
      "   macro avg       0.94      0.94      0.94    170589\n",
      "weighted avg       0.94      0.94      0.94    170589\n",
      "\n"
     ]
    }
   ],
   "source": [
    "print(classification_report(y_test, yhat_probs1))"
   ]
  },
  {
   "cell_type": "code",
   "execution_count": null,
   "id": "f32fad4d",
   "metadata": {},
   "outputs": [],
   "source": []
  },
  {
   "cell_type": "code",
   "execution_count": null,
   "id": "ccef4c26",
   "metadata": {},
   "outputs": [],
   "source": []
  },
  {
   "cell_type": "code",
   "execution_count": null,
   "id": "beed70a3",
   "metadata": {},
   "outputs": [],
   "source": []
  },
  {
   "cell_type": "markdown",
   "id": "de5539ee",
   "metadata": {},
   "source": [
    "# Using one of the saved Model for UI"
   ]
  },
  {
   "cell_type": "code",
   "execution_count": null,
   "id": "c2cdf853",
   "metadata": {},
   "outputs": [],
   "source": [
    "from imblearn.over_sampling import SMOTE"
   ]
  },
  {
   "cell_type": "code",
   "execution_count": 128,
   "id": "4d688511",
   "metadata": {},
   "outputs": [],
   "source": [
    "X_res,y_res = SMOTE().fit_resample(X_train,y_train)"
   ]
  },
  {
   "cell_type": "code",
   "execution_count": 129,
   "id": "a2cf95c3",
   "metadata": {},
   "outputs": [
    {
     "data": {
      "text/plain": [
       "1    199021\n",
       "0    199021\n",
       "Name: Class, dtype: int64"
      ]
     },
     "execution_count": 129,
     "metadata": {},
     "output_type": "execute_result"
    }
   ],
   "source": [
    "y_res.value_counts()"
   ]
  },
  {
   "cell_type": "code",
   "execution_count": 164,
   "id": "d13efcf1",
   "metadata": {},
   "outputs": [
    {
     "data": {
      "text/plain": [
       "<AxesSubplot:xlabel='Class', ylabel='count'>"
      ]
     },
     "execution_count": 164,
     "metadata": {},
     "output_type": "execute_result"
    },
    {
     "data": {
      "image/png": "[encoded data removed]",
      "text/plain": [
       "<Figure size 640x480 with 1 Axes>"
      ]
     },
     "metadata": {},
     "output_type": "display_data"
    }
   ],
   "source": [
    "sns.countplot(y_res)"
   ]
  },
  {
   "cell_type": "code",
   "execution_count": 130,
   "id": "35b4a217",
   "metadata": {},
   "outputs": [
    {
     "data": {
      "text/plain": [
       "RandomForestClassifier()"
      ]
     },
     "execution_count": 130,
     "metadata": {},
     "output_type": "execute_result"
    }
   ],
   "source": [
    "rf = RandomForestClassifier()\n",
    "rf.fit(X_res,y_res)"
   ]
  },
  {
   "cell_type": "code",
   "execution_count": 131,
   "id": "b66089a2",
   "metadata": {},
   "outputs": [],
   "source": [
    "y_pred3 = rf.predict(X_test)"
   ]
  },
  {
   "cell_type": "code",
   "execution_count": 132,
   "id": "1992bc46",
   "metadata": {},
   "outputs": [
    {
     "data": {
      "text/plain": [
       "0.9997010358229429"
      ]
     },
     "execution_count": 132,
     "metadata": {},
     "output_type": "execute_result"
    }
   ],
   "source": [
    "accuracy_score(y_test,y_pred3)"
   ]
  },
  {
   "cell_type": "code",
   "execution_count": 133,
   "id": "70a63d83",
   "metadata": {},
   "outputs": [
    {
     "data": {
      "text/plain": [
       "0.9994258395631693"
      ]
     },
     "execution_count": 133,
     "metadata": {},
     "output_type": "execute_result"
    }
   ],
   "source": [
    "precision_score(y_test,y_pred3)"
   ]
  },
  {
   "cell_type": "code",
   "execution_count": 134,
   "id": "acb7a164",
   "metadata": {},
   "outputs": [
    {
     "data": {
      "text/plain": [
       "0.9999765519667038"
      ]
     },
     "execution_count": 134,
     "metadata": {},
     "output_type": "execute_result"
    }
   ],
   "source": [
    "recall_score(y_test,y_pred3)"
   ]
  },
  {
   "cell_type": "code",
   "execution_count": 135,
   "id": "d25d2ab6",
   "metadata": {},
   "outputs": [
    {
     "data": {
      "text/plain": [
       "0.9997011199212362"
      ]
     },
     "execution_count": 135,
     "metadata": {},
     "output_type": "execute_result"
    }
   ],
   "source": [
    "f1_score(y_test,y_pred3)"
   ]
  },
  {
   "cell_type": "code",
   "execution_count": 136,
   "id": "70ec3cce",
   "metadata": {},
   "outputs": [
    {
     "name": "stdout",
     "output_type": "stream",
     "text": [
      "              precision    recall  f1-score   support\n",
      "\n",
      "           0       1.00      1.00      1.00     85294\n",
      "           1       1.00      1.00      1.00     85295\n",
      "\n",
      "    accuracy                           1.00    170589\n",
      "   macro avg       1.00      1.00      1.00    170589\n",
      "weighted avg       1.00      1.00      1.00    170589\n",
      "\n"
     ]
    }
   ],
   "source": [
    "print(classification_report(y_test, y_pred3))"
   ]
  },
  {
   "cell_type": "code",
   "execution_count": 137,
   "id": "8a6f0bbe",
   "metadata": {},
   "outputs": [],
   "source": [
    "cm1 = confusion_matrix(y_true=y_test, y_pred=y_pred3)"
   ]
  },
  {
   "cell_type": "code",
   "execution_count": 138,
   "id": "705f1e43",
   "metadata": {},
   "outputs": [
    {
     "name": "stdout",
     "output_type": "stream",
     "text": [
      "Confusion matrix, without normalization\n",
      "[[85245    49]\n",
      " [    2 85293]]\n"
     ]
    },
    {
     "data": {
      "image/png": "[encoded data removed]",
      "text/plain": [
       "<Figure size 640x480 with 2 Axes>"
      ]
     },
     "metadata": {},
     "output_type": "display_data"
    }
   ],
   "source": [
    "plot_confusion_matrix(cm=cm1, classes=labels, title='RandomForest-SMOTE', normalize=False)"
   ]
  },
  {
   "cell_type": "code",
   "execution_count": 149,
   "id": "e5a727e5",
   "metadata": {},
   "outputs": [],
   "source": [
    "pred = rf.predict([[0.346834,-0.222880,0.673149,-0.597217,0.404640,-0.801208,0.535493,0.594093,0.620466]])"
   ]
  },
  {
   "cell_type": "code",
   "execution_count": 150,
   "id": "b73a7f54",
   "metadata": {},
   "outputs": [
    {
     "data": {
      "text/plain": [
       "array([1], dtype=int64)"
      ]
     },
     "execution_count": 150,
     "metadata": {},
     "output_type": "execute_result"
    }
   ],
   "source": [
    "pred"
   ]
  },
  {
   "cell_type": "code",
   "execution_count": 151,
   "id": "a2f6a4b1",
   "metadata": {},
   "outputs": [
    {
     "name": "stdout",
     "output_type": "stream",
     "text": [
      "Fraudulent Transcation\n"
     ]
    }
   ],
   "source": [
    "if pred == 0:\n",
    "    print(\"Normal Transcation\")\n",
    "else:\n",
    "    print(\"Fraudulent Transcation\")"
   ]
  },
  {
   "cell_type": "code",
   "execution_count": null,
   "id": "243ab6a7",
   "metadata": {},
   "outputs": [],
   "source": []
  },
  {
   "cell_type": "code",
   "execution_count": 147,
   "id": "da0c4ca6",
   "metadata": {},
   "outputs": [],
   "source": [
    "#df = pd.DataFrame(X_train)"
   ]
  },
  {
   "cell_type": "code",
   "execution_count": 161,
   "id": "70eb7dc6",
   "metadata": {},
   "outputs": [],
   "source": [
    "#df"
   ]
  },
  {
   "cell_type": "code",
   "execution_count": 153,
   "id": "912278a6",
   "metadata": {},
   "outputs": [],
   "source": [
    "import joblib"
   ]
  },
  {
   "cell_type": "code",
   "execution_count": 154,
   "id": "22919bac",
   "metadata": {},
   "outputs": [
    {
     "data": {
      "text/plain": [
       "['credit_card_model']"
      ]
     },
     "execution_count": 154,
     "metadata": {},
     "output_type": "execute_result"
    }
   ],
   "source": [
    "joblib.dump(rf,\"credit_card_model\")"
   ]
  },
  {
   "cell_type": "code",
   "execution_count": 155,
   "id": "6d190c39",
   "metadata": {},
   "outputs": [],
   "source": [
    "model_rf = joblib.load(\"credit_card_model\")"
   ]
  },
  {
   "cell_type": "code",
   "execution_count": null,
   "id": "2ad091d7",
   "metadata": {},
   "outputs": [],
   "source": []
  },
  {
   "cell_type": "code",
   "execution_count": null,
   "id": "3cfdb85b",
   "metadata": {},
   "outputs": [],
   "source": []
  },
  {
   "cell_type": "markdown",
   "id": "0a2aa068",
   "metadata": {},
   "source": [
    "# GUI Application"
   ]
  },
  {
   "cell_type": "code",
   "execution_count": 160,
   "id": "1c43a1c3",
   "metadata": {},
   "outputs": [
    {
     "name": "stdout",
     "output_type": "stream",
     "text": [
      "######################################\n",
      "Credit Card Fraud Detection System ['Fraudulent Transcation']\n",
      "######################################\n"
     ]
    }
   ],
   "source": [
    "from tkinter import *\n",
    "import joblib\n",
    "\n",
    "def show_entry_fields():\n",
    "    v1=float(e1.get())\n",
    "    v2=float(e2.get())\n",
    "    v3=float(e3.get())\n",
    "    v4=float(e4.get())\n",
    "    v5=float(e5.get())\n",
    "    v6=float(e6.get())\n",
    "\n",
    "    v7=float(e7.get())\n",
    "    v8=float(e8.get())\n",
    "    v9=float(e9.get())\n",
    "\n",
    "\n",
    "\n",
    "    model_rf = joblib.load('credit_card_model')\n",
    "    y_pred = model_rf.predict([[v1,v2,v3,v4,v5,v6,v7,v8,v9]])\n",
    "    list1=[v1,v2,v3,v4,v5,v6,v7,v8,v9]\n",
    "\n",
    "    result = []\n",
    "    if y_pred ==0:\n",
    "\n",
    "        result.append(\"Normal Transcation\")\n",
    "    else:\n",
    "\n",
    "        result.append(\"Fraudulent Transcation\")\n",
    "    print(\"######################################\")\n",
    "    print(\"Credit Card Fraud Detection System\", result)\n",
    "    print(\"######################################\")\n",
    "\n",
    "\n",
    "\n",
    "    Label(master, text=\"Final Prediction from the model - credit card fraud detection\").grid(row=31)\n",
    "    Label(master, text=result).grid(row=32)\n",
    "\n",
    "\n",
    "\n",
    "master = Tk()\n",
    "master.title(\"Credit Card Fraud Detection System\")\n",
    "\n",
    "\n",
    "label = Label(master, text = \"Credit Card Fraud Detection System\"\n",
    "                          , bg = \"black\", fg = \"white\",width = 30).grid(row=0,columnspan=2)\n",
    "\n",
    "\n",
    "Label(master, text=\"Enter value of  Amount of Transaction\").grid(row=1)\n",
    "Label(master, text=\"Enter value of  Avg monthly Transaction\").grid(row=2)\n",
    "Label(master, text=\"Enter value of Avg yearly Transaction\").grid(row=3)\n",
    "Label(master, text=\"Enter value of Longitude Location of Merchant\").grid(row=4)\n",
    "Label(master, text=\"Enter value of Latitude Location of Merchant\").grid(row=5)\n",
    "Label(master, text=\"Enter value of UNIX Time of transaction\").grid(row=6)\n",
    "\n",
    "Label(master, text=\"Enter value of Credit Card Holder's City Population\").grid(row=7)\n",
    "Label(master, text=\"Enter value of long - Longitude Location of Credit Card Holder\").grid(row=8)\n",
    "Label(master, text=\"Enter value of lat - Latitude Location of Credit Card Holder\").grid(row=9)\n",
    "\n",
    "e1 = Entry(master)\n",
    "e2 = Entry(master)\n",
    "e3 = Entry(master)\n",
    "e4 = Entry(master)\n",
    "e5 = Entry(master)\n",
    "e6 = Entry(master)\n",
    "\n",
    "e7 = Entry(master)\n",
    "e8 = Entry(master)\n",
    "e9 = Entry(master)\n",
    "\n",
    "e1.grid(row=1, column=1)\n",
    "e2.grid(row=2, column=1)\n",
    "e3.grid(row=3, column=1)\n",
    "e4.grid(row=4, column=1)\n",
    "e5.grid(row=5, column=1)\n",
    "e6.grid(row=6, column=1)\n",
    "\n",
    "e7.grid(row=7, column=1)\n",
    "e8.grid(row=8, column=1)\n",
    "e9.grid(row=9, column=1)\n",
    "\n",
    "Button(master, text='Predict', command=show_entry_fields).grid(row=30, column=1, sticky=W, pady=4)\n",
    "\n",
    "mainloop( )"
   ]
  },
  {
   "cell_type": "code",
   "execution_count": null,
   "id": "305a9054",
   "metadata": {},
   "outputs": [],
   "source": []
  },
  {
   "cell_type": "code",
   "execution_count": null,
   "id": "181a7330",
   "metadata": {},
   "outputs": [],
   "source": []
  }
 ],
 "metadata": {
  "kernelspec": {
   "display_name": "Python 3 (ipykernel)",
   "language": "python",
   "name": "python3"
  },
  "language_info": {
   "codemirror_mode": {
    "name": "ipython",
    "version": 3
   },
   "file_extension": ".py",
   "mimetype": "text/x-python",
   "name": "python",
   "nbconvert_exporter": "python",
   "pygments_lexer": "ipython3",
   "version": "3.9.7"
  }
 },
 "nbformat": 4,
 "nbformat_minor": 5
}
